{
  "nbformat": 4,
  "nbformat_minor": 0,
  "metadata": {
    "colab": {
      "provenance": []
    },
    "kernelspec": {
      "name": "python3",
      "display_name": "Python 3"
    },
    "language_info": {
      "name": "python"
    },
    "widgets": {
      "application/vnd.jupyter.widget-state+json": {
        "509555bc49ea43a7ade6628d5fb3c75d": {
          "model_module": "@jupyter-widgets/controls",
          "model_name": "TextareaModel",
          "model_module_version": "1.5.0",
          "state": {
            "_dom_classes": [],
            "_model_module": "@jupyter-widgets/controls",
            "_model_module_version": "1.5.0",
            "_model_name": "TextareaModel",
            "_view_count": null,
            "_view_module": "@jupyter-widgets/controls",
            "_view_module_version": "1.5.0",
            "_view_name": "TextareaView",
            "continuous_update": true,
            "description": "Text:",
            "description_tooltip": null,
            "disabled": false,
            "layout": "IPY_MODEL_f0a3dcb2d22e4f13bda9d5a612b93c3e",
            "placeholder": "Enter text here",
            "rows": null,
            "style": "IPY_MODEL_bddd5236ef1b4644a176e3e032526dc8",
            "value": "This is a standard product"
          }
        },
        "f0a3dcb2d22e4f13bda9d5a612b93c3e": {
          "model_module": "@jupyter-widgets/base",
          "model_name": "LayoutModel",
          "model_module_version": "1.2.0",
          "state": {
            "_model_module": "@jupyter-widgets/base",
            "_model_module_version": "1.2.0",
            "_model_name": "LayoutModel",
            "_view_count": null,
            "_view_module": "@jupyter-widgets/base",
            "_view_module_version": "1.2.0",
            "_view_name": "LayoutView",
            "align_content": null,
            "align_items": null,
            "align_self": null,
            "border": null,
            "bottom": null,
            "display": null,
            "flex": null,
            "flex_flow": null,
            "grid_area": null,
            "grid_auto_columns": null,
            "grid_auto_flow": null,
            "grid_auto_rows": null,
            "grid_column": null,
            "grid_gap": null,
            "grid_row": null,
            "grid_template_areas": null,
            "grid_template_columns": null,
            "grid_template_rows": null,
            "height": "100px",
            "justify_content": null,
            "justify_items": null,
            "left": null,
            "margin": null,
            "max_height": null,
            "max_width": null,
            "min_height": null,
            "min_width": null,
            "object_fit": null,
            "object_position": null,
            "order": null,
            "overflow": null,
            "overflow_x": null,
            "overflow_y": null,
            "padding": null,
            "right": null,
            "top": null,
            "visibility": null,
            "width": "400px"
          }
        },
        "bddd5236ef1b4644a176e3e032526dc8": {
          "model_module": "@jupyter-widgets/controls",
          "model_name": "DescriptionStyleModel",
          "model_module_version": "1.5.0",
          "state": {
            "_model_module": "@jupyter-widgets/controls",
            "_model_module_version": "1.5.0",
            "_model_name": "DescriptionStyleModel",
            "_view_count": null,
            "_view_module": "@jupyter-widgets/base",
            "_view_module_version": "1.2.0",
            "_view_name": "StyleView",
            "description_width": ""
          }
        },
        "a3e3b96483ae4520b7547b70f2528e49": {
          "model_module": "@jupyter-widgets/controls",
          "model_name": "ButtonModel",
          "model_module_version": "1.5.0",
          "state": {
            "_dom_classes": [],
            "_model_module": "@jupyter-widgets/controls",
            "_model_module_version": "1.5.0",
            "_model_name": "ButtonModel",
            "_view_count": null,
            "_view_module": "@jupyter-widgets/controls",
            "_view_module_version": "1.5.0",
            "_view_name": "ButtonView",
            "button_style": "",
            "description": "Analyze Sentiment",
            "disabled": false,
            "icon": "",
            "layout": "IPY_MODEL_2595f12578594b5e93ced03e1b8e49be",
            "style": "IPY_MODEL_a766830555894e6993627ed3b64b92ca",
            "tooltip": ""
          }
        },
        "2595f12578594b5e93ced03e1b8e49be": {
          "model_module": "@jupyter-widgets/base",
          "model_name": "LayoutModel",
          "model_module_version": "1.2.0",
          "state": {
            "_model_module": "@jupyter-widgets/base",
            "_model_module_version": "1.2.0",
            "_model_name": "LayoutModel",
            "_view_count": null,
            "_view_module": "@jupyter-widgets/base",
            "_view_module_version": "1.2.0",
            "_view_name": "LayoutView",
            "align_content": null,
            "align_items": null,
            "align_self": null,
            "border": null,
            "bottom": null,
            "display": null,
            "flex": null,
            "flex_flow": null,
            "grid_area": null,
            "grid_auto_columns": null,
            "grid_auto_flow": null,
            "grid_auto_rows": null,
            "grid_column": null,
            "grid_gap": null,
            "grid_row": null,
            "grid_template_areas": null,
            "grid_template_columns": null,
            "grid_template_rows": null,
            "height": null,
            "justify_content": null,
            "justify_items": null,
            "left": null,
            "margin": null,
            "max_height": null,
            "max_width": null,
            "min_height": null,
            "min_width": null,
            "object_fit": null,
            "object_position": null,
            "order": null,
            "overflow": null,
            "overflow_x": null,
            "overflow_y": null,
            "padding": null,
            "right": null,
            "top": null,
            "visibility": null,
            "width": null
          }
        },
        "a766830555894e6993627ed3b64b92ca": {
          "model_module": "@jupyter-widgets/controls",
          "model_name": "ButtonStyleModel",
          "model_module_version": "1.5.0",
          "state": {
            "_model_module": "@jupyter-widgets/controls",
            "_model_module_version": "1.5.0",
            "_model_name": "ButtonStyleModel",
            "_view_count": null,
            "_view_module": "@jupyter-widgets/base",
            "_view_module_version": "1.2.0",
            "_view_name": "StyleView",
            "button_color": null,
            "font_weight": ""
          }
        },
        "f8019c29d6cb4135af76388e44c3017a": {
          "model_module": "@jupyter-widgets/controls",
          "model_name": "HTMLModel",
          "model_module_version": "1.5.0",
          "state": {
            "_dom_classes": [],
            "_model_module": "@jupyter-widgets/controls",
            "_model_module_version": "1.5.0",
            "_model_name": "HTMLModel",
            "_view_count": null,
            "_view_module": "@jupyter-widgets/controls",
            "_view_module_version": "1.5.0",
            "_view_name": "HTMLView",
            "description": "",
            "description_tooltip": null,
            "layout": "IPY_MODEL_7cad355f653a4c9db0f9ed7ac71cbb04",
            "placeholder": "​",
            "style": "IPY_MODEL_74efd398d6574868a643de9722bad558",
            "value": "Sentiment: Neutral"
          }
        },
        "7cad355f653a4c9db0f9ed7ac71cbb04": {
          "model_module": "@jupyter-widgets/base",
          "model_name": "LayoutModel",
          "model_module_version": "1.2.0",
          "state": {
            "_model_module": "@jupyter-widgets/base",
            "_model_module_version": "1.2.0",
            "_model_name": "LayoutModel",
            "_view_count": null,
            "_view_module": "@jupyter-widgets/base",
            "_view_module_version": "1.2.0",
            "_view_name": "LayoutView",
            "align_content": null,
            "align_items": null,
            "align_self": null,
            "border": null,
            "bottom": null,
            "display": null,
            "flex": null,
            "flex_flow": null,
            "grid_area": null,
            "grid_auto_columns": null,
            "grid_auto_flow": null,
            "grid_auto_rows": null,
            "grid_column": null,
            "grid_gap": null,
            "grid_row": null,
            "grid_template_areas": null,
            "grid_template_columns": null,
            "grid_template_rows": null,
            "height": null,
            "justify_content": null,
            "justify_items": null,
            "left": null,
            "margin": null,
            "max_height": null,
            "max_width": null,
            "min_height": null,
            "min_width": null,
            "object_fit": null,
            "object_position": null,
            "order": null,
            "overflow": null,
            "overflow_x": null,
            "overflow_y": null,
            "padding": null,
            "right": null,
            "top": null,
            "visibility": null,
            "width": null
          }
        },
        "74efd398d6574868a643de9722bad558": {
          "model_module": "@jupyter-widgets/controls",
          "model_name": "DescriptionStyleModel",
          "model_module_version": "1.5.0",
          "state": {
            "_model_module": "@jupyter-widgets/controls",
            "_model_module_version": "1.5.0",
            "_model_name": "DescriptionStyleModel",
            "_view_count": null,
            "_view_module": "@jupyter-widgets/base",
            "_view_module_version": "1.2.0",
            "_view_name": "StyleView",
            "description_width": ""
          }
        }
      }
    }
  },
  "cells": [
    {
      "cell_type": "markdown",
      "source": [
        "# **Team MoodMasters NLP Hub**\n",
        "<img src=\"https://github.com/yaznhijazii/FlipkartNLP/blob/main/IMG_7579.PNG?raw=true\" alt=\"Alt Text\" width=\"300\"/>\n",
        "\n",
        "\n",
        "## Welcome Team MoodMasters!\n",
        "\n",
        "Greetings Team MoodMasters! 👋 Get ready to explore the fascinating realm of Natural Language Processing (NLP) and sentiment analysis. Meet our stellar team:\n",
        "\n",
        "- **1. Yazan Hijazi**\n",
        "- **2. Mohammad Bata**\n",
        "- **3. Saleh Khalaf**\n",
        "- **4. Omar Khaled**\n",
        "\n",
        "\n",
        "Let's collectively master the art of mood analysis! 🌟📊🔮\n"
      ],
      "metadata": {
        "id": "PlyGhuXXGX0k"
      }
    },
    {
      "cell_type": "markdown",
      "source": [
        "#**Analyzing Flipkart Product Reviews with TextBlob**\n",
        "<img src=\"https://github.com/yaznhijazii/FlipkartNLP/blob/main/1_Ud1zM4dy9e0Djy9syWg7BA.png?raw=true\" alt=\"Alt Text\" width=\"300\"/>\n",
        "\n",
        "#**Introduction To Flipkart**\n",
        "Flipkart, a leading e-commerce platform, hosts a vast array of products, attracting millions of customers who provide valuable feedback through reviews. Analyzing these reviews is crucial for understanding customer sentiments and extracting meaningful insights.\n",
        "\n",
        "In this Colab notebook, we'll explore the sentiment analysis of Flipkart product reviews using the TextBlob library.\n",
        "#**Introduction To TextBlob library**\n",
        "\n",
        "TextBlob is a powerful Python library built on top of NLTK and Pattern libraries, designed for processing textual data. It simplifies various natural language processing (NLP) tasks, including part-of-speech tagging, noun phrase extraction, sentiment analysis, classification, translation, and more.\n",
        "\n",
        "Our goal is to leverage TextBlob to perform a comprehensive analysis of Flipkart product reviews. We'll cover steps such as POS tagging, lemmatization, parsing, N-gram analysis, sentiment analysis, and word/phrase frequency analysis. Additionally, we'll utilize Spacy for spelling correction to enhance the accuracy of our text data.\n",
        "\n",
        "Let's dive into the fascinating world of NLP and sentiment analysis to gain valuable insights into the sentiments expressed by Flipkart customers in their product reviews!\n"
      ],
      "metadata": {
        "id": "2echfXxB8l7y"
      }
    },
    {
      "cell_type": "markdown",
      "source": [
        "# **Download Library**\n",
        "**!pip install textblob:** Installs the TextBlob library, a simple NLP (Natural Language Processing) library for processing textual data and performing common NLP tasks like sentiment analysis.\n",
        "\n",
        "**!pip install nltk:** Installs the Natural Language Toolkit (NLTK), a powerful library for working with human language data, providing tools for tokenization, stemming, tagging, parsing, and more.\n",
        "\n",
        "**nltk.download('averaged_perceptron_tagger')**: Downloads the NLTK data for the \"averaged_perceptron_tagger,\" which is used for part-of-speech tagging in natural language processing tasks.\n",
        "\n",
        "**nltk.download(\"punkt\")**: Downloads the NLTK data for the \"punkt\" tokenizer, which is essential for tokenizing text into individual words or sentences.\n",
        "\n",
        "**nltk.download('wordnet'):** Downloads the NLTK data for the WordNet lexical database, which is often used in tasks such as word sense disambiguation and synonym identification in NLP.\n",
        "\n",
        "\n"
      ],
      "metadata": {
        "id": "_7xbgZR95tOs"
      }
    },
    {
      "cell_type": "code",
      "source": [
        "!pip install textblob\n",
        "!pip install nltk\n"
      ],
      "metadata": {
        "colab": {
          "base_uri": "https://localhost:8080/"
        },
        "id": "2XXiLzrY5suN",
        "outputId": "c67519f8-75de-42d7-ac8a-b413a4aa366f"
      },
      "execution_count": 38,
      "outputs": [
        {
          "output_type": "stream",
          "name": "stdout",
          "text": [
            "Requirement already satisfied: textblob in /usr/local/lib/python3.10/dist-packages (0.17.1)\n",
            "Requirement already satisfied: nltk>=3.1 in /usr/local/lib/python3.10/dist-packages (from textblob) (3.8.1)\n",
            "Requirement already satisfied: click in /usr/local/lib/python3.10/dist-packages (from nltk>=3.1->textblob) (8.1.7)\n",
            "Requirement already satisfied: joblib in /usr/local/lib/python3.10/dist-packages (from nltk>=3.1->textblob) (1.3.2)\n",
            "Requirement already satisfied: regex>=2021.8.3 in /usr/local/lib/python3.10/dist-packages (from nltk>=3.1->textblob) (2023.6.3)\n",
            "Requirement already satisfied: tqdm in /usr/local/lib/python3.10/dist-packages (from nltk>=3.1->textblob) (4.66.1)\n",
            "\u001b[31mERROR: Operation cancelled by user\u001b[0m\u001b[31m\n",
            "\u001b[0mRequirement already satisfied: nltk in /usr/local/lib/python3.10/dist-packages (3.8.1)\n",
            "Requirement already satisfied: click in /usr/local/lib/python3.10/dist-packages (from nltk) (8.1.7)\n",
            "Requirement already satisfied: joblib in /usr/local/lib/python3.10/dist-packages (from nltk) (1.3.2)\n",
            "Requirement already satisfied: regex>=2021.8.3 in /usr/local/lib/python3.10/dist-packages (from nltk) (2023.6.3)\n",
            "Requirement already satisfied: tqdm in /usr/local/lib/python3.10/dist-packages (from nltk) (4.66.1)\n"
          ]
        }
      ]
    },
    {
      "cell_type": "code",
      "source": [
        "import nltk\n",
        "nltk.download('averaged_perceptron_tagger')\n",
        "nltk.download('punkt')\n",
        "nltk.download('wordnet')\n"
      ],
      "metadata": {
        "colab": {
          "base_uri": "https://localhost:8080/"
        },
        "id": "d89XrnkR6MW6",
        "outputId": "67a696f8-6224-4fc7-c5c3-46d172d7efda"
      },
      "execution_count": 39,
      "outputs": [
        {
          "output_type": "stream",
          "name": "stderr",
          "text": [
            "[nltk_data] Downloading package averaged_perceptron_tagger to\n",
            "[nltk_data]     /root/nltk_data...\n",
            "[nltk_data]   Package averaged_perceptron_tagger is already up-to-\n",
            "[nltk_data]       date!\n",
            "[nltk_data] Downloading package punkt to /root/nltk_data...\n",
            "[nltk_data]   Package punkt is already up-to-date!\n",
            "[nltk_data] Downloading package wordnet to /root/nltk_data...\n",
            "[nltk_data]   Package wordnet is already up-to-date!\n"
          ]
        },
        {
          "output_type": "execute_result",
          "data": {
            "text/plain": [
              "True"
            ]
          },
          "metadata": {},
          "execution_count": 39
        }
      ]
    },
    {
      "cell_type": "markdown",
      "source": [
        "# **Importing Library**  \n",
        "\n",
        "**Pandas (`import pandas as pd`):** A powerful data manipulation library in Python, often used for handling and analyzing tabular data.\n",
        "\n",
        "**TextBlob (`from textblob import TextBlob`):** A simple NLP library that provides a high-level interface for common NLP tasks, such as part-of-speech tagging, noun phrase extraction, sentiment analysis, classification, translation, and more.\n",
        "\n",
        "**NLTK (`from nltk import pos_tag, word_tokenize`):** The Natural Language Toolkit, a comprehensive library for natural language processing. Here, you're importing functions for part-of-speech tagging and word tokenization.\n",
        "\n",
        "**WordNet (`from nltk.corpus import wordnet`):** A lexical database of the English language, used for finding word meanings, synonyms, antonyms, and more.\n",
        "\n",
        "**WordNetLemmatizer (`from nltk.stem import WordNetLemmatizer`):** Part of NLTK, used for lemmatizing words, reducing them to their base or root form.\n",
        "\n",
        "**Scikit-learn (`from sklearn.model_selection import train_test_split`, `from sklearn.feature_extraction.text import TfidfVectorizer`, `from sklearn.linear_model import LogisticRegression`, `from sklearn.metrics import accuracy_score, classification_report`):** A machine learning library that provides tools for data preprocessing, model training, and evaluation. You're using it here for sentiment analysis with a logistic regression model.\n",
        "\n",
        "**TextBlob (`from textblob import Word`):** Another import from TextBlob, possibly used for word-level operations like lemmatization.\n",
        "\n",
        "**NLTK (`import nltk`):** Importing the entire NLTK library. It's not clear if this import is necessary, as specific components from NLTK have already been imported earlier in the script.\n"
      ],
      "metadata": {
        "id": "Wk9HmCPjsvxI"
      }
    },
    {
      "cell_type": "code",
      "source": [
        "import pandas as pd\n",
        "from textblob import TextBlob\n",
        "from nltk import pos_tag, word_tokenize\n",
        "from nltk.corpus import wordnet\n",
        "from nltk.stem import WordNetLemmatizer\n",
        "from sklearn.model_selection import train_test_split\n",
        "from sklearn.feature_extraction.text import TfidfVectorizer\n",
        "from sklearn.linear_model import LogisticRegression\n",
        "from sklearn.metrics import accuracy_score, classification_report\n",
        "from textblob import Word\n",
        "import nltk"
      ],
      "metadata": {
        "id": "012-z7YyGs5x"
      },
      "execution_count": 40,
      "outputs": []
    },
    {
      "cell_type": "markdown",
      "source": [
        "# **Read and Data Cleaning**\n",
        "\n",
        "In this section, we perform data cleaning tasks. One crucial step is handling null values in the dataset. To ensure the integrity of our analysis, we have removed any rows or columns containing null values.\n"
      ],
      "metadata": {
        "id": "27sl0oGFtnCI"
      }
    },
    {
      "cell_type": "code",
      "source": [
        "file_path = \"/content/flipkart_product.csv\"\n",
        "df= pd.read_csv(file_path, encoding='ISO-8859-1')\n",
        "df"
      ],
      "metadata": {
        "colab": {
          "base_uri": "https://localhost:8080/",
          "height": 528
        },
        "id": "6I_SGuCVGSqG",
        "outputId": "c659efd9-7f2e-4a4a-ba34-c39c35755929"
      },
      "execution_count": 41,
      "outputs": [
        {
          "output_type": "execute_result",
          "data": {
            "text/plain": [
              "                                              ProductName     Price Rate  \\\n",
              "0       Candes 12 L Room/Personal Air Cooler?ÿ?ÿ(White...  ??3,999    5   \n",
              "1       Candes 12 L Room/Personal Air Cooler?ÿ?ÿ(White...  ??3,999    5   \n",
              "2       Candes 12 L Room/Personal Air Cooler?ÿ?ÿ(White...  ??3,999    3   \n",
              "3       Candes 12 L Room/Personal Air Cooler?ÿ?ÿ(White...  ??3,999    1   \n",
              "4       Candes 12 L Room/Personal Air Cooler?ÿ?ÿ(White...  ??3,999    3   \n",
              "...                                                   ...       ...  ...   \n",
              "189869  NIVEA Soft Light Moisturizer for Face, Hand & ...    â¹142    5   \n",
              "189870  NIVEA Soft Light Moisturizer for Face, Hand & ...    â¹142    5   \n",
              "189871  NIVEA Soft Light Moisturizer for Face, Hand & ...    â¹142    5   \n",
              "189872  NIVEA Soft Light Moisturizer for Face, Hand & ...    â¹142    4   \n",
              "189873                                                  \u001a       NaN  NaN   \n",
              "\n",
              "                 Review                                            Summary  \n",
              "0                Super!  Great cooler.. excellent air flow and for this...  \n",
              "1               Awesome             Best budget 2 fit cooler. Nice cooling  \n",
              "2                  Fair  The quality is good but the power of air is de...  \n",
              "3       Useless product                 Very bad product it's a only a fan  \n",
              "4                  Fair                                      Ok ok product  \n",
              "...                 ...                                                ...  \n",
              "189869         Terrific                                             Thanks  \n",
              "189870         Terrific                                               Good  \n",
              "189871        Just wow!                                              Super  \n",
              "189872  Worth the money                                               Good  \n",
              "189873              NaN                                                NaN  \n",
              "\n",
              "[189874 rows x 5 columns]"
            ],
            "text/html": [
              "\n",
              "  <div id=\"df-7b6f999b-52d7-4cf0-8d29-9efd6de26d43\" class=\"colab-df-container\">\n",
              "    <div>\n",
              "<style scoped>\n",
              "    .dataframe tbody tr th:only-of-type {\n",
              "        vertical-align: middle;\n",
              "    }\n",
              "\n",
              "    .dataframe tbody tr th {\n",
              "        vertical-align: top;\n",
              "    }\n",
              "\n",
              "    .dataframe thead th {\n",
              "        text-align: right;\n",
              "    }\n",
              "</style>\n",
              "<table border=\"1\" class=\"dataframe\">\n",
              "  <thead>\n",
              "    <tr style=\"text-align: right;\">\n",
              "      <th></th>\n",
              "      <th>ProductName</th>\n",
              "      <th>Price</th>\n",
              "      <th>Rate</th>\n",
              "      <th>Review</th>\n",
              "      <th>Summary</th>\n",
              "    </tr>\n",
              "  </thead>\n",
              "  <tbody>\n",
              "    <tr>\n",
              "      <th>0</th>\n",
              "      <td>Candes 12 L Room/Personal Air Cooler?ÿ?ÿ(White...</td>\n",
              "      <td>??3,999</td>\n",
              "      <td>5</td>\n",
              "      <td>Super!</td>\n",
              "      <td>Great cooler.. excellent air flow and for this...</td>\n",
              "    </tr>\n",
              "    <tr>\n",
              "      <th>1</th>\n",
              "      <td>Candes 12 L Room/Personal Air Cooler?ÿ?ÿ(White...</td>\n",
              "      <td>??3,999</td>\n",
              "      <td>5</td>\n",
              "      <td>Awesome</td>\n",
              "      <td>Best budget 2 fit cooler. Nice cooling</td>\n",
              "    </tr>\n",
              "    <tr>\n",
              "      <th>2</th>\n",
              "      <td>Candes 12 L Room/Personal Air Cooler?ÿ?ÿ(White...</td>\n",
              "      <td>??3,999</td>\n",
              "      <td>3</td>\n",
              "      <td>Fair</td>\n",
              "      <td>The quality is good but the power of air is de...</td>\n",
              "    </tr>\n",
              "    <tr>\n",
              "      <th>3</th>\n",
              "      <td>Candes 12 L Room/Personal Air Cooler?ÿ?ÿ(White...</td>\n",
              "      <td>??3,999</td>\n",
              "      <td>1</td>\n",
              "      <td>Useless product</td>\n",
              "      <td>Very bad product it's a only a fan</td>\n",
              "    </tr>\n",
              "    <tr>\n",
              "      <th>4</th>\n",
              "      <td>Candes 12 L Room/Personal Air Cooler?ÿ?ÿ(White...</td>\n",
              "      <td>??3,999</td>\n",
              "      <td>3</td>\n",
              "      <td>Fair</td>\n",
              "      <td>Ok ok product</td>\n",
              "    </tr>\n",
              "    <tr>\n",
              "      <th>...</th>\n",
              "      <td>...</td>\n",
              "      <td>...</td>\n",
              "      <td>...</td>\n",
              "      <td>...</td>\n",
              "      <td>...</td>\n",
              "    </tr>\n",
              "    <tr>\n",
              "      <th>189869</th>\n",
              "      <td>NIVEA Soft Light Moisturizer for Face, Hand &amp; ...</td>\n",
              "      <td>â¹142</td>\n",
              "      <td>5</td>\n",
              "      <td>Terrific</td>\n",
              "      <td>Thanks</td>\n",
              "    </tr>\n",
              "    <tr>\n",
              "      <th>189870</th>\n",
              "      <td>NIVEA Soft Light Moisturizer for Face, Hand &amp; ...</td>\n",
              "      <td>â¹142</td>\n",
              "      <td>5</td>\n",
              "      <td>Terrific</td>\n",
              "      <td>Good</td>\n",
              "    </tr>\n",
              "    <tr>\n",
              "      <th>189871</th>\n",
              "      <td>NIVEA Soft Light Moisturizer for Face, Hand &amp; ...</td>\n",
              "      <td>â¹142</td>\n",
              "      <td>5</td>\n",
              "      <td>Just wow!</td>\n",
              "      <td>Super</td>\n",
              "    </tr>\n",
              "    <tr>\n",
              "      <th>189872</th>\n",
              "      <td>NIVEA Soft Light Moisturizer for Face, Hand &amp; ...</td>\n",
              "      <td>â¹142</td>\n",
              "      <td>4</td>\n",
              "      <td>Worth the money</td>\n",
              "      <td>Good</td>\n",
              "    </tr>\n",
              "    <tr>\n",
              "      <th>189873</th>\n",
              "      <td>\u001a</td>\n",
              "      <td>NaN</td>\n",
              "      <td>NaN</td>\n",
              "      <td>NaN</td>\n",
              "      <td>NaN</td>\n",
              "    </tr>\n",
              "  </tbody>\n",
              "</table>\n",
              "<p>189874 rows × 5 columns</p>\n",
              "</div>\n",
              "    <div class=\"colab-df-buttons\">\n",
              "\n",
              "  <div class=\"colab-df-container\">\n",
              "    <button class=\"colab-df-convert\" onclick=\"convertToInteractive('df-7b6f999b-52d7-4cf0-8d29-9efd6de26d43')\"\n",
              "            title=\"Convert this dataframe to an interactive table.\"\n",
              "            style=\"display:none;\">\n",
              "\n",
              "  <svg xmlns=\"http://www.w3.org/2000/svg\" height=\"24px\" viewBox=\"0 -960 960 960\">\n",
              "    <path d=\"M120-120v-720h720v720H120Zm60-500h600v-160H180v160Zm220 220h160v-160H400v160Zm0 220h160v-160H400v160ZM180-400h160v-160H180v160Zm440 0h160v-160H620v160ZM180-180h160v-160H180v160Zm440 0h160v-160H620v160Z\"/>\n",
              "  </svg>\n",
              "    </button>\n",
              "\n",
              "  <style>\n",
              "    .colab-df-container {\n",
              "      display:flex;\n",
              "      gap: 12px;\n",
              "    }\n",
              "\n",
              "    .colab-df-convert {\n",
              "      background-color: #E8F0FE;\n",
              "      border: none;\n",
              "      border-radius: 50%;\n",
              "      cursor: pointer;\n",
              "      display: none;\n",
              "      fill: #1967D2;\n",
              "      height: 32px;\n",
              "      padding: 0 0 0 0;\n",
              "      width: 32px;\n",
              "    }\n",
              "\n",
              "    .colab-df-convert:hover {\n",
              "      background-color: #E2EBFA;\n",
              "      box-shadow: 0px 1px 2px rgba(60, 64, 67, 0.3), 0px 1px 3px 1px rgba(60, 64, 67, 0.15);\n",
              "      fill: #174EA6;\n",
              "    }\n",
              "\n",
              "    .colab-df-buttons div {\n",
              "      margin-bottom: 4px;\n",
              "    }\n",
              "\n",
              "    [theme=dark] .colab-df-convert {\n",
              "      background-color: #3B4455;\n",
              "      fill: #D2E3FC;\n",
              "    }\n",
              "\n",
              "    [theme=dark] .colab-df-convert:hover {\n",
              "      background-color: #434B5C;\n",
              "      box-shadow: 0px 1px 3px 1px rgba(0, 0, 0, 0.15);\n",
              "      filter: drop-shadow(0px 1px 2px rgba(0, 0, 0, 0.3));\n",
              "      fill: #FFFFFF;\n",
              "    }\n",
              "  </style>\n",
              "\n",
              "    <script>\n",
              "      const buttonEl =\n",
              "        document.querySelector('#df-7b6f999b-52d7-4cf0-8d29-9efd6de26d43 button.colab-df-convert');\n",
              "      buttonEl.style.display =\n",
              "        google.colab.kernel.accessAllowed ? 'block' : 'none';\n",
              "\n",
              "      async function convertToInteractive(key) {\n",
              "        const element = document.querySelector('#df-7b6f999b-52d7-4cf0-8d29-9efd6de26d43');\n",
              "        const dataTable =\n",
              "          await google.colab.kernel.invokeFunction('convertToInteractive',\n",
              "                                                    [key], {});\n",
              "        if (!dataTable) return;\n",
              "\n",
              "        const docLinkHtml = 'Like what you see? Visit the ' +\n",
              "          '<a target=\"_blank\" href=https://colab.research.google.com/notebooks/data_table.ipynb>data table notebook</a>'\n",
              "          + ' to learn more about interactive tables.';\n",
              "        element.innerHTML = '';\n",
              "        dataTable['output_type'] = 'display_data';\n",
              "        await google.colab.output.renderOutput(dataTable, element);\n",
              "        const docLink = document.createElement('div');\n",
              "        docLink.innerHTML = docLinkHtml;\n",
              "        element.appendChild(docLink);\n",
              "      }\n",
              "    </script>\n",
              "  </div>\n",
              "\n",
              "\n",
              "<div id=\"df-28864259-7474-4b13-a276-9e8710d9864d\">\n",
              "  <button class=\"colab-df-quickchart\" onclick=\"quickchart('df-28864259-7474-4b13-a276-9e8710d9864d')\"\n",
              "            title=\"Suggest charts\"\n",
              "            style=\"display:none;\">\n",
              "\n",
              "<svg xmlns=\"http://www.w3.org/2000/svg\" height=\"24px\"viewBox=\"0 0 24 24\"\n",
              "     width=\"24px\">\n",
              "    <g>\n",
              "        <path d=\"M19 3H5c-1.1 0-2 .9-2 2v14c0 1.1.9 2 2 2h14c1.1 0 2-.9 2-2V5c0-1.1-.9-2-2-2zM9 17H7v-7h2v7zm4 0h-2V7h2v10zm4 0h-2v-4h2v4z\"/>\n",
              "    </g>\n",
              "</svg>\n",
              "  </button>\n",
              "\n",
              "<style>\n",
              "  .colab-df-quickchart {\n",
              "      --bg-color: #E8F0FE;\n",
              "      --fill-color: #1967D2;\n",
              "      --hover-bg-color: #E2EBFA;\n",
              "      --hover-fill-color: #174EA6;\n",
              "      --disabled-fill-color: #AAA;\n",
              "      --disabled-bg-color: #DDD;\n",
              "  }\n",
              "\n",
              "  [theme=dark] .colab-df-quickchart {\n",
              "      --bg-color: #3B4455;\n",
              "      --fill-color: #D2E3FC;\n",
              "      --hover-bg-color: #434B5C;\n",
              "      --hover-fill-color: #FFFFFF;\n",
              "      --disabled-bg-color: #3B4455;\n",
              "      --disabled-fill-color: #666;\n",
              "  }\n",
              "\n",
              "  .colab-df-quickchart {\n",
              "    background-color: var(--bg-color);\n",
              "    border: none;\n",
              "    border-radius: 50%;\n",
              "    cursor: pointer;\n",
              "    display: none;\n",
              "    fill: var(--fill-color);\n",
              "    height: 32px;\n",
              "    padding: 0;\n",
              "    width: 32px;\n",
              "  }\n",
              "\n",
              "  .colab-df-quickchart:hover {\n",
              "    background-color: var(--hover-bg-color);\n",
              "    box-shadow: 0 1px 2px rgba(60, 64, 67, 0.3), 0 1px 3px 1px rgba(60, 64, 67, 0.15);\n",
              "    fill: var(--button-hover-fill-color);\n",
              "  }\n",
              "\n",
              "  .colab-df-quickchart-complete:disabled,\n",
              "  .colab-df-quickchart-complete:disabled:hover {\n",
              "    background-color: var(--disabled-bg-color);\n",
              "    fill: var(--disabled-fill-color);\n",
              "    box-shadow: none;\n",
              "  }\n",
              "\n",
              "  .colab-df-spinner {\n",
              "    border: 2px solid var(--fill-color);\n",
              "    border-color: transparent;\n",
              "    border-bottom-color: var(--fill-color);\n",
              "    animation:\n",
              "      spin 1s steps(1) infinite;\n",
              "  }\n",
              "\n",
              "  @keyframes spin {\n",
              "    0% {\n",
              "      border-color: transparent;\n",
              "      border-bottom-color: var(--fill-color);\n",
              "      border-left-color: var(--fill-color);\n",
              "    }\n",
              "    20% {\n",
              "      border-color: transparent;\n",
              "      border-left-color: var(--fill-color);\n",
              "      border-top-color: var(--fill-color);\n",
              "    }\n",
              "    30% {\n",
              "      border-color: transparent;\n",
              "      border-left-color: var(--fill-color);\n",
              "      border-top-color: var(--fill-color);\n",
              "      border-right-color: var(--fill-color);\n",
              "    }\n",
              "    40% {\n",
              "      border-color: transparent;\n",
              "      border-right-color: var(--fill-color);\n",
              "      border-top-color: var(--fill-color);\n",
              "    }\n",
              "    60% {\n",
              "      border-color: transparent;\n",
              "      border-right-color: var(--fill-color);\n",
              "    }\n",
              "    80% {\n",
              "      border-color: transparent;\n",
              "      border-right-color: var(--fill-color);\n",
              "      border-bottom-color: var(--fill-color);\n",
              "    }\n",
              "    90% {\n",
              "      border-color: transparent;\n",
              "      border-bottom-color: var(--fill-color);\n",
              "    }\n",
              "  }\n",
              "</style>\n",
              "\n",
              "  <script>\n",
              "    async function quickchart(key) {\n",
              "      const quickchartButtonEl =\n",
              "        document.querySelector('#' + key + ' button');\n",
              "      quickchartButtonEl.disabled = true;  // To prevent multiple clicks.\n",
              "      quickchartButtonEl.classList.add('colab-df-spinner');\n",
              "      try {\n",
              "        const charts = await google.colab.kernel.invokeFunction(\n",
              "            'suggestCharts', [key], {});\n",
              "      } catch (error) {\n",
              "        console.error('Error during call to suggestCharts:', error);\n",
              "      }\n",
              "      quickchartButtonEl.classList.remove('colab-df-spinner');\n",
              "      quickchartButtonEl.classList.add('colab-df-quickchart-complete');\n",
              "    }\n",
              "    (() => {\n",
              "      let quickchartButtonEl =\n",
              "        document.querySelector('#df-28864259-7474-4b13-a276-9e8710d9864d button');\n",
              "      quickchartButtonEl.style.display =\n",
              "        google.colab.kernel.accessAllowed ? 'block' : 'none';\n",
              "    })();\n",
              "  </script>\n",
              "</div>\n",
              "\n",
              "  <div id=\"id_4aa43320-5846-4ffe-a5a0-48fafa82b3e2\">\n",
              "    <style>\n",
              "      .colab-df-generate {\n",
              "        background-color: #E8F0FE;\n",
              "        border: none;\n",
              "        border-radius: 50%;\n",
              "        cursor: pointer;\n",
              "        display: none;\n",
              "        fill: #1967D2;\n",
              "        height: 32px;\n",
              "        padding: 0 0 0 0;\n",
              "        width: 32px;\n",
              "      }\n",
              "\n",
              "      .colab-df-generate:hover {\n",
              "        background-color: #E2EBFA;\n",
              "        box-shadow: 0px 1px 2px rgba(60, 64, 67, 0.3), 0px 1px 3px 1px rgba(60, 64, 67, 0.15);\n",
              "        fill: #174EA6;\n",
              "      }\n",
              "\n",
              "      [theme=dark] .colab-df-generate {\n",
              "        background-color: #3B4455;\n",
              "        fill: #D2E3FC;\n",
              "      }\n",
              "\n",
              "      [theme=dark] .colab-df-generate:hover {\n",
              "        background-color: #434B5C;\n",
              "        box-shadow: 0px 1px 3px 1px rgba(0, 0, 0, 0.15);\n",
              "        filter: drop-shadow(0px 1px 2px rgba(0, 0, 0, 0.3));\n",
              "        fill: #FFFFFF;\n",
              "      }\n",
              "    </style>\n",
              "    <button class=\"colab-df-generate\" onclick=\"generateWithVariable('df')\"\n",
              "            title=\"Generate code using this dataframe.\"\n",
              "            style=\"display:none;\">\n",
              "\n",
              "  <svg xmlns=\"http://www.w3.org/2000/svg\" height=\"24px\"viewBox=\"0 0 24 24\"\n",
              "       width=\"24px\">\n",
              "    <path d=\"M7,19H8.4L18.45,9,17,7.55,7,17.6ZM5,21V16.75L18.45,3.32a2,2,0,0,1,2.83,0l1.4,1.43a1.91,1.91,0,0,1,.58,1.4,1.91,1.91,0,0,1-.58,1.4L9.25,21ZM18.45,9,17,7.55Zm-12,3A5.31,5.31,0,0,0,4.9,8.1,5.31,5.31,0,0,0,1,6.5,5.31,5.31,0,0,0,4.9,4.9,5.31,5.31,0,0,0,6.5,1,5.31,5.31,0,0,0,8.1,4.9,5.31,5.31,0,0,0,12,6.5,5.46,5.46,0,0,0,6.5,12Z\"/>\n",
              "  </svg>\n",
              "    </button>\n",
              "    <script>\n",
              "      (() => {\n",
              "      const buttonEl =\n",
              "        document.querySelector('#id_4aa43320-5846-4ffe-a5a0-48fafa82b3e2 button.colab-df-generate');\n",
              "      buttonEl.style.display =\n",
              "        google.colab.kernel.accessAllowed ? 'block' : 'none';\n",
              "\n",
              "      buttonEl.onclick = () => {\n",
              "        google.colab.notebook.generateWithVariable('df');\n",
              "      }\n",
              "      })();\n",
              "    </script>\n",
              "  </div>\n",
              "\n",
              "    </div>\n",
              "  </div>\n"
            ]
          },
          "metadata": {},
          "execution_count": 41
        }
      ]
    },
    {
      "cell_type": "code",
      "source": [
        "df.isnull().sum()"
      ],
      "metadata": {
        "colab": {
          "base_uri": "https://localhost:8080/"
        },
        "id": "m75t3OhtG2BI",
        "outputId": "16ceac50-a938-4730-f087-38e9165ef15a"
      },
      "execution_count": 42,
      "outputs": [
        {
          "output_type": "execute_result",
          "data": {
            "text/plain": [
              "ProductName     0\n",
              "Price           1\n",
              "Rate            1\n",
              "Review          4\n",
              "Summary        14\n",
              "dtype: int64"
            ]
          },
          "metadata": {},
          "execution_count": 42
        }
      ]
    },
    {
      "cell_type": "code",
      "source": [
        "df.dropna(inplace=True)"
      ],
      "metadata": {
        "id": "xAeNHAmDG8k1"
      },
      "execution_count": 43,
      "outputs": []
    },
    {
      "cell_type": "code",
      "source": [
        "df.isnull().sum()"
      ],
      "metadata": {
        "colab": {
          "base_uri": "https://localhost:8080/"
        },
        "id": "f9tjqTjHHAn3",
        "outputId": "da146b4f-18a0-4933-aff3-442df8502bda"
      },
      "execution_count": 44,
      "outputs": [
        {
          "output_type": "execute_result",
          "data": {
            "text/plain": [
              "ProductName    0\n",
              "Price          0\n",
              "Rate           0\n",
              "Review         0\n",
              "Summary        0\n",
              "dtype: int64"
            ]
          },
          "metadata": {},
          "execution_count": 44
        }
      ]
    },
    {
      "cell_type": "markdown",
      "source": [
        "# **Creating textblob and POS tagging**\n",
        "\n",
        "After installing TextBlob, you can create a TextBlob object to represent a piece of text. Part-of-speech (POS) tagging is the process of labeling each word in the text with its grammatical category (e.g., noun, verb). TextBlob makes POS tagging straightforward.\n"
      ],
      "metadata": {
        "id": "S9x1gAZFwiVg"
      }
    },
    {
      "cell_type": "code",
      "source": [
        "df['TextBlob'] = df['Summary'].apply(lambda summary: TextBlob(summary))\n",
        "df['POS_tags'] = df['Summary'].apply(lambda summary: pos_tag(word_tokenize(summary)))"
      ],
      "metadata": {
        "id": "JYSaAKv-HL6S"
      },
      "execution_count": 45,
      "outputs": []
    },
    {
      "cell_type": "markdown",
      "source": [
        "# **Lemmatization**\n",
        "Lemmatization is the process of reducing words to their base or root form. TextBlob includes lemmatization functionality.\n"
      ],
      "metadata": {
        "id": "RxLqLjqbxJL0"
      }
    },
    {
      "cell_type": "code",
      "source": [
        "# Function to convert POS tags to WordNet POS tags\n",
        "def get_wordnet_pos(tag):\n",
        "    if tag.startswith('J'):\n",
        "        return wordnet.ADJ\n",
        "    elif tag.startswith('V'):\n",
        "        return wordnet.VERB\n",
        "    elif tag.startswith('N'):\n",
        "        return wordnet.NOUN\n",
        "    elif tag.startswith('R'):\n",
        "        return wordnet.ADV\n",
        "    else:\n",
        "        return wordnet.NOUN  # Default to noun if not one of the above\n",
        "\n",
        "# Lemmatization\n",
        "lemmatizer = WordNetLemmatizer()\n",
        "df['Lemmatized'] = df['POS_tags'].apply(\n",
        "    lambda pos_tags: [lemmatizer.lemmatize(word, get_wordnet_pos(tag)) for word, tag in pos_tags]\n",
        ")\n"
      ],
      "metadata": {
        "id": "upBR0c1pIEoT"
      },
      "execution_count": 46,
      "outputs": []
    },
    {
      "cell_type": "markdown",
      "source": [
        "# **WordNet and WordList**\n",
        "\n",
        "\n",
        "\n",
        "WordNet is a lexical database of the English language, and TextBlob provides integration with WordNet. WordList is a feature in TextBlob that allows you to check if a word belongs to a predefined list.\n"
      ],
      "metadata": {
        "id": "3yscnTy-3PTk"
      }
    },
    {
      "cell_type": "code",
      "source": [
        "flipkart_wordlist = {\n",
        "    'smartphone': 'electronics',\n",
        "    'laptop': 'electronics',\n",
        "    't-shirt': 'clothing',\n",
        "    'vacuum cleaner': 'home_goods',\n",
        "    'washing machine': 'home_goods',\n",
        "    'headphones': 'electronics',\n",
        "    'jacket': 'clothing',\n",
        "    'coffee maker': 'home_goods',\n",
        "    'fitness tracker': 'electronics',\n",
        "    'jeans': 'clothing',\n",
        "    'book': 'books',\n",
        "    'toothbrush': 'health_and_personal_care',\n",
        "    'gaming console': 'electronics',\n",
        "    'sneakers': 'clothing',\n",
        "    'kitchen blender': 'home_goods',\n",
        "    'watch': 'jewelry',\n",
        "    'tablet': 'electronics',\n",
        "    'backpack': 'bags_and_luggage',\n",
        "    'bedsheets': 'home_goods',\n",
        "    'camera': 'electronics',\n",
        "    'umbrella': 'clothing',\n",
        "    'perfume': 'beauty',\n",
        "    'baby stroller': 'baby',\n",
        "    'office chair': 'furniture',\n",
        "    'guitar': 'musical_instruments',\n",
        "    'pet food': 'pets',\n",
        "    'power bank': 'electronics',\n",
        "    'water bottle': 'kitchen',\n",
        "\n",
        "}\n",
        "\n",
        "def wordlist_lemmatizer(lemmatized_words):\n",
        "    return [flipkart_wordlist.get(word.lower(), lemmatizer.lemmatize(word, get_wordnet_pos(''))) for word in lemmatized_words]\n",
        "\n",
        "df['Lemmatized'] = df['Lemmatized'].apply(wordlist_lemmatizer)\n"
      ],
      "metadata": {
        "id": "VXVsjLKfIHJT"
      },
      "execution_count": 47,
      "outputs": []
    },
    {
      "cell_type": "markdown",
      "source": [
        "# **Parsing**\n",
        "Parsing involves analyzing the grammatical structure of sentences. TextBlob enables parsing, aiding in syntactic analysis and understanding the structure of sentences.\n"
      ],
      "metadata": {
        "id": "-49fZWBv2jdK"
      }
    },
    {
      "cell_type": "code",
      "source": [
        "from nltk import RegexpParser\n",
        "\n",
        "grammar = r\"\"\"\n",
        "    NP: {<DT>?<JJ>*<NN>} # NP\n",
        "    VP: {<VB.*><NP|PP|CLAUSE>+$} # VP\n",
        "    CLAUSE: {<NP><VP>} # CLAUSE\n",
        "\"\"\"\n",
        "\n",
        "def parse_sentence(pos_tags):\n",
        "    cp = RegexpParser(grammar)\n",
        "    tree = cp.parse(pos_tags)\n",
        "    return tree\n",
        "\n",
        "df['ParseTree'] = df['POS_tags'].apply(parse_sentence)\n"
      ],
      "metadata": {
        "id": "EyVilZKHMQCY"
      },
      "execution_count": 48,
      "outputs": []
    },
    {
      "cell_type": "markdown",
      "source": [
        "# **N-Gram**\n",
        "N-grams are contiguous sequences of n items (words in the context of NLP). TextBlob facilitates the extraction of N-grams, helping to capture patterns and relationships in the text.\n"
      ],
      "metadata": {
        "id": "OM2X2-DV2ZYt"
      }
    },
    {
      "cell_type": "code",
      "source": [
        "from sklearn.feature_extraction.text import TfidfVectorizer\n",
        "from sklearn.model_selection import train_test_split\n",
        "\n",
        "X_train, X_test = train_test_split(df['Summary'], test_size=0.2, random_state=42)\n",
        "\n",
        "vectorizer = TfidfVectorizer(stop_words='english', max_features=5000, ngram_range=(1, 2))\n",
        "\n",
        "X_train_vectorized = vectorizer.fit_transform(X_train)\n",
        "\n",
        "X_test_vectorized = vectorizer.transform(X_test)\n"
      ],
      "metadata": {
        "id": "z6e7WnEjMW0Z"
      },
      "execution_count": 49,
      "outputs": []
    },
    {
      "cell_type": "markdown",
      "source": [
        "# **Sentiment analysis**\n",
        "<img src=\"https://github.com/yaznhijazii/FlipkartNLP/blob/main/Social-Media-Sentiment-Analysis.jpg?raw=true\" alt=\"Alt Text\" width=\"300\"/>\n",
        "\n",
        "Determine the sentiment (positive, negative, neutral) expressed in a piece of text using TextBlob's sentiment analysis capabilities.\n"
      ],
      "metadata": {
        "id": "nRFr39bxz630"
      }
    },
    {
      "cell_type": "code",
      "source": [
        "from textblob import TextBlob\n",
        "df['TextBlob'] = df['Summary'].apply(lambda summary: TextBlob(summary))\n",
        "\n",
        "df['Sentiment'] = df['TextBlob'].apply(lambda textblob: 'Positive' if textblob.sentiment.polarity > 0 else 'Neutral' if textblob.sentiment.polarity == 0 else 'Negative')\n",
        "\n",
        "sentiment_distribution = df['Sentiment'].value_counts()\n",
        "print(\"Sentiment Distribution:\")\n",
        "print(sentiment_distribution)\n",
        "\n",
        "import matplotlib.pyplot as plt\n",
        "import seaborn as sns\n",
        "\n",
        "plt.figure(figsize=(8, 6))\n",
        "sns.countplot(x='Sentiment', data=df)\n",
        "plt.title(\"Sentiment Distribution\")\n",
        "plt.xlabel(\"Sentiment\")\n",
        "plt.ylabel(\"Count\")\n",
        "plt.show()\n"
      ],
      "metadata": {
        "colab": {
          "base_uri": "https://localhost:8080/",
          "height": 651
        },
        "id": "2NkepqGVNh2B",
        "outputId": "35d781ab-a6eb-4fb1-e7d0-4b9b9e77f48a"
      },
      "execution_count": 50,
      "outputs": [
        {
          "output_type": "stream",
          "name": "stdout",
          "text": [
            "Sentiment Distribution:\n",
            "Positive    152283\n",
            "Negative     20351\n",
            "Neutral      17223\n",
            "Name: Sentiment, dtype: int64\n"
          ]
        },
        {
          "output_type": "display_data",
          "data": {
            "text/plain": [
              "<Figure size 800x600 with 1 Axes>"
            ],
            "image/png": "[encoded data removed]"
          },
          "metadata": {}
        }
      ]
    },
    {
      "cell_type": "markdown",
      "source": [
        "# **Word and Phrase Frequencies:**\n",
        "\n",
        "Analyze the frequencies of words and phrases in the text. This provides insights into the most common elements in the dataset.\n"
      ],
      "metadata": {
        "id": "ugIeRWL60IVT"
      }
    },
    {
      "cell_type": "code",
      "source": [
        "from sklearn.feature_extraction.text import CountVectorizer\n",
        "\n",
        "count_vectorizer = CountVectorizer(stop_words='english', max_features=5000, ngram_range=(1, 2))\n",
        "\n",
        "X_counts = count_vectorizer.fit_transform(df['Summary'])\n",
        "\n",
        "feature_names = count_vectorizer.get_feature_names_out()\n",
        "\n",
        "word_phrase_freq_df = pd.DataFrame(X_counts.toarray(), columns=feature_names)\n",
        "print(\"Word and Phrase Frequencies:\")\n",
        "print(word_phrase_freq_df.head())\n"
      ],
      "metadata": {
        "colab": {
          "base_uri": "https://localhost:8080/"
        },
        "id": "vBzyci70NumM",
        "outputId": "315ef0e1-4de3-4504-b6d6-d698f5777add"
      },
      "execution_count": 51,
      "outputs": [
        {
          "output_type": "stream",
          "name": "stdout",
          "text": [
            "Word and Phrase Frequencies:\n",
            "   000  10  10 10  10 15  10 days  10 hours  10 min  10 minutes  10 years  \\\n",
            "0    0   0      0      0        0         0       0           0         0   \n",
            "1    0   0      0      0        0         0       0           0         0   \n",
            "2    0   0      0      0        0         0       0           0         0   \n",
            "3    0   0      0      0        0         0       0           0         0   \n",
            "4    0   0      0      0        0         0       0           0         0   \n",
            "\n",
            "   100  ...  ¹â ¹â  ¹ï  ¹ð  ºâ  ºï  ºï ºï  ºð  ¼ð  ½â  ½ð  \n",
            "0    0  ...      0   0   0   0   0      0   0   0   0   0  \n",
            "1    0  ...      0   0   0   0   0      0   0   0   0   0  \n",
            "2    0  ...      0   0   0   0   0      0   0   0   0   0  \n",
            "3    0  ...      0   0   0   0   0      0   0   0   0   0  \n",
            "4    0  ...      0   0   0   0   0      0   0   0   0   0  \n",
            "\n",
            "[5 rows x 5000 columns]\n"
          ]
        }
      ]
    },
    {
      "cell_type": "markdown",
      "source": [
        "# **Correction of spellings**\n",
        "Perform spelling correction to address and rectify any spelling mistakes in the text.\n"
      ],
      "metadata": {
        "id": "NmtKwnTu0W0m"
      }
    },
    {
      "cell_type": "code",
      "source": [
        "import spacy\n",
        "\n",
        "nlp = spacy.load(\"en_core_web_sm\")\n",
        "\n",
        "def correct_spelling_spacy(text):\n",
        "    doc = nlp(text)\n",
        "    return ' '.join([token.lemma_ for token in doc])\n",
        "\n",
        "df['Corrected_Summary'] = df['Summary'].apply(correct_spelling_spacy)\n"
      ],
      "metadata": {
        "id": "bXyyq1EmfEfM"
      },
      "execution_count": 52,
      "outputs": []
    },
    {
      "cell_type": "markdown",
      "source": [
        "# **Let's Try The code!**\n",
        "\n",
        "#**You can use these sentences !**\n",
        "**Positive Sentiment:**\n",
        "\n",
        "\"I love this product! It's amazing.\"\n",
        "\n",
        "**Negative Sentiment:**\n",
        "\n",
        "\"This product is terrible.\"\n",
        "\n",
        "**Neutral Sentiment:**\n",
        "\n",
        "\"This is a standard product.\"\n"
      ],
      "metadata": {
        "id": "HrKqRZup0gs9"
      }
    },
    {
      "cell_type": "code",
      "source": [
        "from textblob import TextBlob\n",
        "import ipywidgets as widgets\n",
        "from IPython.display import display\n",
        "\n",
        "def analyze_sentiment(sender):\n",
        "    input_text = text_input.value\n",
        "    textblob_result = TextBlob(input_text)\n",
        "    sentiment = 'Positive' if textblob_result.sentiment.polarity > 0 else 'Neutral' if textblob_result.sentiment.polarity == 0 else 'Negative'\n",
        "    result_label.value = f\"Sentiment: {sentiment}\"\n",
        "\n",
        "# Create input text widget\n",
        "text_input = widgets.Textarea(\n",
        "    value='',\n",
        "    placeholder='Enter text here',\n",
        "    description='Text:',\n",
        "    layout={'width': '400px', 'height': '100px'}\n",
        ")\n",
        "\n",
        "# Create analyze button\n",
        "analyze_button = widgets.Button(description=\"Analyze Sentiment\")\n",
        "analyze_button.on_click(analyze_sentiment)\n",
        "\n",
        "# Create result label\n",
        "result_label = widgets.HTML(value=\"Sentiment: \")\n",
        "\n",
        "# Display widgets\n",
        "display(text_input)\n",
        "display(analyze_button)\n",
        "display(result_label)\n"
      ],
      "metadata": {
        "colab": {
          "base_uri": "https://localhost:8080/",
          "height": 185,
          "referenced_widgets": [
            "509555bc49ea43a7ade6628d5fb3c75d",
            "f0a3dcb2d22e4f13bda9d5a612b93c3e",
            "bddd5236ef1b4644a176e3e032526dc8",
            "a3e3b96483ae4520b7547b70f2528e49",
            "2595f12578594b5e93ced03e1b8e49be",
            "a766830555894e6993627ed3b64b92ca",
            "f8019c29d6cb4135af76388e44c3017a",
            "7cad355f653a4c9db0f9ed7ac71cbb04",
            "74efd398d6574868a643de9722bad558"
          ]
        },
        "id": "a45cMxamOK1M",
        "outputId": "b025981d-e02c-4df1-dc70-b425e4705a76"
      },
      "execution_count": 53,
      "outputs": [
        {
          "output_type": "display_data",
          "data": {
            "text/plain": [
              "Textarea(value='', description='Text:', layout=Layout(height='100px', width='400px'), placeholder='Enter text …"
            ],
            "application/vnd.jupyter.widget-view+json": {
              "version_major": 2,
              "version_minor": 0,
              "model_id": "509555bc49ea43a7ade6628d5fb3c75d"
            }
          },
          "metadata": {}
        },
        {
          "output_type": "display_data",
          "data": {
            "text/plain": [
              "Button(description='Analyze Sentiment', style=ButtonStyle())"
            ],
            "application/vnd.jupyter.widget-view+json": {
              "version_major": 2,
              "version_minor": 0,
              "model_id": "a3e3b96483ae4520b7547b70f2528e49"
            }
          },
          "metadata": {}
        },
        {
          "output_type": "display_data",
          "data": {
            "text/plain": [
              "HTML(value='Sentiment: ')"
            ],
            "application/vnd.jupyter.widget-view+json": {
              "version_major": 2,
              "version_minor": 0,
              "model_id": "f8019c29d6cb4135af76388e44c3017a"
            }
          },
          "metadata": {}
        }
      ]
    },
    {
      "cell_type": "markdown",
      "source": [
        "# My GitHub Project\n",
        "\n",
        "Check out my project on GitHub: [My Repository](https://github.com/yaznhijazii/FlipkartNLP/tree/main)\n"
      ],
      "metadata": {
        "id": "A030MpkmPBN8"
      }
    }
  ]
}