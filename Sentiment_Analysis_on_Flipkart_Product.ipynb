{
  "nbformat": 4,
  "nbformat_minor": 0,
  "metadata": {
    "colab": {
      "provenance": [],
      "collapsed_sections": [
        "_7xbgZR95tOs"
      ]
    },
    "kernelspec": {
      "name": "python3",
      "display_name": "Python 3"
    },
    "language_info": {
      "name": "python"
    }
  },
  "cells": [
    {
      "cell_type": "markdown",
      "source": [
        "# **Team MoodMasters NLP Hub**\n",
        "<img src=\"https://github.com/yaznhijazii/FlipkartNLP/blob/main/IMG_7579.PNG?raw=true\" alt=\"Alt Text\" width=\"300\"/>\n",
        "\n",
        "\n",
        "## Welcome MoodMasters!\n",
        "\n",
        "Greetings MoodMasters! 👋 Get ready to explore the fascinating realm of Natural Language Processing (NLP) and sentiment analysis.\n",
        "\n",
        "- **BY : Yazan Hijazi**\n",
        "\n",
        "Let's collectively master the art of mood analysis! 🌟📊🔮\n"
      ],
      "metadata": {
        "id": "PlyGhuXXGX0k"
      }
    },
    {
      "cell_type": "markdown",
      "source": [
        "#**Analyzing Flipkart Product Reviews with TextBlob**\n",
        "<img src=\"https://github.com/yaznhijazii/FlipkartNLP/blob/main/1_Ud1zM4dy9e0Djy9syWg7BA.png?raw=true\" alt=\"Alt Text\" width=\"300\"/>\n",
        "\n",
        "#**Introduction To Flipkart**\n",
        "Flipkart, a leading e-commerce platform, hosts a vast array of products, attracting millions of customers who provide valuable feedback through reviews. Analyzing these reviews is crucial for understanding customer sentiments and extracting meaningful insights.\n",
        "\n",
        "In this Colab notebook, we'll explore the sentiment analysis of Flipkart product reviews using the TextBlob library.\n",
        "#**Introduction To TextBlob library**\n",
        "\n",
        "TextBlob is a powerful Python library built on top of NLTK and Pattern libraries, designed for processing textual data. It simplifies various natural language processing (NLP) tasks, including part-of-speech tagging, noun phrase extraction, sentiment analysis, classification, translation, and more.\n",
        "\n",
        "\n",
        "Let's dive into the fascinating world of NLP and sentiment analysis to gain valuable insights into the sentiments expressed by Flipkart customers in their product reviews!\n"
      ],
      "metadata": {
        "id": "2echfXxB8l7y"
      }
    },
    {
      "cell_type": "markdown",
      "source": [
        "# **Download Library**\n",
        "**!pip install textblob:** Installs the TextBlob library, a simple NLP (Natural Language Processing) library for processing textual data and performing common NLP tasks like sentiment analysis.\n",
        "\n",
        "**!python -m spacy download en_core_web_sm:** Is used to download the English language model \"en_core_web_sm\" for the spaCy natural language processing library in Python.\n",
        "\n",
        "**pip install pyspellchecker** : The pyspellchecker library in Python is typically used for spell checking\n"
      ],
      "metadata": {
        "id": "_7xbgZR95tOs"
      }
    },
    {
      "cell_type": "code",
      "source": [
        "!pip install textblob\n"
      ],
      "metadata": {
        "colab": {
          "base_uri": "https://localhost:8080/"
        },
        "id": "2XXiLzrY5suN",
        "outputId": "97ad3c1c-87ff-47f5-8b3d-4581a14e7b70"
      },
      "execution_count": null,
      "outputs": [
        {
          "output_type": "stream",
          "name": "stdout",
          "text": [
            "Requirement already satisfied: textblob in /usr/local/lib/python3.10/dist-packages (0.17.1)\n",
            "Requirement already satisfied: nltk>=3.1 in /usr/local/lib/python3.10/dist-packages (from textblob) (3.8.1)\n",
            "Requirement already satisfied: click in /usr/local/lib/python3.10/dist-packages (from nltk>=3.1->textblob) (8.1.7)\n",
            "Requirement already satisfied: joblib in /usr/local/lib/python3.10/dist-packages (from nltk>=3.1->textblob) (1.3.2)\n",
            "Requirement already satisfied: regex>=2021.8.3 in /usr/local/lib/python3.10/dist-packages (from nltk>=3.1->textblob) (2023.6.3)\n",
            "Requirement already satisfied: tqdm in /usr/local/lib/python3.10/dist-packages (from nltk>=3.1->textblob) (4.66.1)\n"
          ]
        }
      ]
    },
    {
      "cell_type": "code",
      "source": [
        "!python -m spacy download en_core_web_sm\n"
      ],
      "metadata": {
        "colab": {
          "base_uri": "https://localhost:8080/"
        },
        "id": "Yxn0VyHZWXF4",
        "outputId": "1d4efad9-a1ae-4532-a3f9-427fd91187eb"
      },
      "execution_count": null,
      "outputs": [
        {
          "output_type": "stream",
          "name": "stdout",
          "text": [
            "2024-01-01 21:09:00.634992: E external/local_xla/xla/stream_executor/cuda/cuda_dnn.cc:9261] Unable to register cuDNN factory: Attempting to register factory for plugin cuDNN when one has already been registered\n",
            "2024-01-01 21:09:00.635068: E external/local_xla/xla/stream_executor/cuda/cuda_fft.cc:607] Unable to register cuFFT factory: Attempting to register factory for plugin cuFFT when one has already been registered\n",
            "2024-01-01 21:09:00.637167: E external/local_xla/xla/stream_executor/cuda/cuda_blas.cc:1515] Unable to register cuBLAS factory: Attempting to register factory for plugin cuBLAS when one has already been registered\n",
            "2024-01-01 21:09:00.649788: I tensorflow/core/platform/cpu_feature_guard.cc:182] This TensorFlow binary is optimized to use available CPU instructions in performance-critical operations.\n",
            "To enable the following instructions: AVX2 FMA, in other operations, rebuild TensorFlow with the appropriate compiler flags.\n",
            "2024-01-01 21:09:02.672064: W tensorflow/compiler/tf2tensorrt/utils/py_utils.cc:38] TF-TRT Warning: Could not find TensorRT\n",
            "Collecting en-core-web-sm==3.6.0\n",
            "  Downloading https://github.com/explosion/spacy-models/releases/download/en_core_web_sm-3.6.0/en_core_web_sm-3.6.0-py3-none-any.whl (12.8 MB)\n",
            "\u001b[2K     \u001b[90m━━━━━━━━━━━━━━━━━━━━━━━━━━━━━━━━━━━━━━━━\u001b[0m \u001b[32m12.8/12.8 MB\u001b[0m \u001b[31m38.5 MB/s\u001b[0m eta \u001b[36m0:00:00\u001b[0m\n",
            "\u001b[?25hRequirement already satisfied: spacy<3.7.0,>=3.6.0 in /usr/local/lib/python3.10/dist-packages (from en-core-web-sm==3.6.0) (3.6.1)\n",
            "Requirement already satisfied: spacy-legacy<3.1.0,>=3.0.11 in /usr/local/lib/python3.10/dist-packages (from spacy<3.7.0,>=3.6.0->en-core-web-sm==3.6.0) (3.0.12)\n",
            "Requirement already satisfied: spacy-loggers<2.0.0,>=1.0.0 in /usr/local/lib/python3.10/dist-packages (from spacy<3.7.0,>=3.6.0->en-core-web-sm==3.6.0) (1.0.5)\n",
            "Requirement already satisfied: murmurhash<1.1.0,>=0.28.0 in /usr/local/lib/python3.10/dist-packages (from spacy<3.7.0,>=3.6.0->en-core-web-sm==3.6.0) (1.0.10)\n",
            "Requirement already satisfied: cymem<2.1.0,>=2.0.2 in /usr/local/lib/python3.10/dist-packages (from spacy<3.7.0,>=3.6.0->en-core-web-sm==3.6.0) (2.0.8)\n",
            "Requirement already satisfied: preshed<3.1.0,>=3.0.2 in /usr/local/lib/python3.10/dist-packages (from spacy<3.7.0,>=3.6.0->en-core-web-sm==3.6.0) (3.0.9)\n",
            "Requirement already satisfied: thinc<8.2.0,>=8.1.8 in /usr/local/lib/python3.10/dist-packages (from spacy<3.7.0,>=3.6.0->en-core-web-sm==3.6.0) (8.1.12)\n",
            "Requirement already satisfied: wasabi<1.2.0,>=0.9.1 in /usr/local/lib/python3.10/dist-packages (from spacy<3.7.0,>=3.6.0->en-core-web-sm==3.6.0) (1.1.2)\n",
            "Requirement already satisfied: srsly<3.0.0,>=2.4.3 in /usr/local/lib/python3.10/dist-packages (from spacy<3.7.0,>=3.6.0->en-core-web-sm==3.6.0) (2.4.8)\n",
            "Requirement already satisfied: catalogue<2.1.0,>=2.0.6 in /usr/local/lib/python3.10/dist-packages (from spacy<3.7.0,>=3.6.0->en-core-web-sm==3.6.0) (2.0.10)\n",
            "Requirement already satisfied: typer<0.10.0,>=0.3.0 in /usr/local/lib/python3.10/dist-packages (from spacy<3.7.0,>=3.6.0->en-core-web-sm==3.6.0) (0.9.0)\n",
            "Requirement already satisfied: pathy>=0.10.0 in /usr/local/lib/python3.10/dist-packages (from spacy<3.7.0,>=3.6.0->en-core-web-sm==3.6.0) (0.10.3)\n",
            "Requirement already satisfied: smart-open<7.0.0,>=5.2.1 in /usr/local/lib/python3.10/dist-packages (from spacy<3.7.0,>=3.6.0->en-core-web-sm==3.6.0) (6.4.0)\n",
            "Requirement already satisfied: tqdm<5.0.0,>=4.38.0 in /usr/local/lib/python3.10/dist-packages (from spacy<3.7.0,>=3.6.0->en-core-web-sm==3.6.0) (4.66.1)\n",
            "Requirement already satisfied: numpy>=1.15.0 in /usr/local/lib/python3.10/dist-packages (from spacy<3.7.0,>=3.6.0->en-core-web-sm==3.6.0) (1.23.5)\n",
            "Requirement already satisfied: requests<3.0.0,>=2.13.0 in /usr/local/lib/python3.10/dist-packages (from spacy<3.7.0,>=3.6.0->en-core-web-sm==3.6.0) (2.31.0)\n",
            "Requirement already satisfied: pydantic!=1.8,!=1.8.1,<3.0.0,>=1.7.4 in /usr/local/lib/python3.10/dist-packages (from spacy<3.7.0,>=3.6.0->en-core-web-sm==3.6.0) (1.10.13)\n",
            "Requirement already satisfied: jinja2 in /usr/local/lib/python3.10/dist-packages (from spacy<3.7.0,>=3.6.0->en-core-web-sm==3.6.0) (3.1.2)\n",
            "Requirement already satisfied: setuptools in /usr/local/lib/python3.10/dist-packages (from spacy<3.7.0,>=3.6.0->en-core-web-sm==3.6.0) (67.7.2)\n",
            "Requirement already satisfied: packaging>=20.0 in /usr/local/lib/python3.10/dist-packages (from spacy<3.7.0,>=3.6.0->en-core-web-sm==3.6.0) (23.2)\n",
            "Requirement already satisfied: langcodes<4.0.0,>=3.2.0 in /usr/local/lib/python3.10/dist-packages (from spacy<3.7.0,>=3.6.0->en-core-web-sm==3.6.0) (3.3.0)\n",
            "Requirement already satisfied: typing-extensions>=4.2.0 in /usr/local/lib/python3.10/dist-packages (from pydantic!=1.8,!=1.8.1,<3.0.0,>=1.7.4->spacy<3.7.0,>=3.6.0->en-core-web-sm==3.6.0) (4.5.0)\n",
            "Requirement already satisfied: charset-normalizer<4,>=2 in /usr/local/lib/python3.10/dist-packages (from requests<3.0.0,>=2.13.0->spacy<3.7.0,>=3.6.0->en-core-web-sm==3.6.0) (3.3.2)\n",
            "Requirement already satisfied: idna<4,>=2.5 in /usr/local/lib/python3.10/dist-packages (from requests<3.0.0,>=2.13.0->spacy<3.7.0,>=3.6.0->en-core-web-sm==3.6.0) (3.6)\n",
            "Requirement already satisfied: urllib3<3,>=1.21.1 in /usr/local/lib/python3.10/dist-packages (from requests<3.0.0,>=2.13.0->spacy<3.7.0,>=3.6.0->en-core-web-sm==3.6.0) (2.0.7)\n",
            "Requirement already satisfied: certifi>=2017.4.17 in /usr/local/lib/python3.10/dist-packages (from requests<3.0.0,>=2.13.0->spacy<3.7.0,>=3.6.0->en-core-web-sm==3.6.0) (2023.11.17)\n",
            "Requirement already satisfied: blis<0.8.0,>=0.7.8 in /usr/local/lib/python3.10/dist-packages (from thinc<8.2.0,>=8.1.8->spacy<3.7.0,>=3.6.0->en-core-web-sm==3.6.0) (0.7.11)\n",
            "Requirement already satisfied: confection<1.0.0,>=0.0.1 in /usr/local/lib/python3.10/dist-packages (from thinc<8.2.0,>=8.1.8->spacy<3.7.0,>=3.6.0->en-core-web-sm==3.6.0) (0.1.4)\n",
            "Requirement already satisfied: click<9.0.0,>=7.1.1 in /usr/local/lib/python3.10/dist-packages (from typer<0.10.0,>=0.3.0->spacy<3.7.0,>=3.6.0->en-core-web-sm==3.6.0) (8.1.7)\n",
            "Requirement already satisfied: MarkupSafe>=2.0 in /usr/local/lib/python3.10/dist-packages (from jinja2->spacy<3.7.0,>=3.6.0->en-core-web-sm==3.6.0) (2.1.3)\n",
            "\u001b[38;5;2m✔ Download and installation successful\u001b[0m\n",
            "You can now load the package via spacy.load('en_core_web_sm')\n"
          ]
        }
      ]
    },
    {
      "cell_type": "code",
      "source": [
        "pip install pyspellchecker\n"
      ],
      "metadata": {
        "colab": {
          "base_uri": "https://localhost:8080/"
        },
        "id": "1xm-HnBK36LX",
        "outputId": "9dfa519d-5d3d-4d40-8667-b2667a2ce057"
      },
      "execution_count": null,
      "outputs": [
        {
          "output_type": "stream",
          "name": "stdout",
          "text": [
            "Collecting pyspellchecker\n",
            "  Downloading pyspellchecker-0.7.3-py3-none-any.whl (6.5 MB)\n",
            "\u001b[?25l     \u001b[90m━━━━━━━━━━━━━━━━━━━━━━━━━━━━━━━━━━━━━━━━\u001b[0m \u001b[32m0.0/6.5 MB\u001b[0m \u001b[31m?\u001b[0m eta \u001b[36m-:--:--\u001b[0m\r\u001b[2K     \u001b[90m━━━━━━━━━━━━━━━━━━━━━━━━━━━━━━━━━━━━━━━━\u001b[0m \u001b[32m0.1/6.5 MB\u001b[0m \u001b[31m1.7 MB/s\u001b[0m eta \u001b[36m0:00:04\u001b[0m\r\u001b[2K     \u001b[91m━━━━━━━━━━━━\u001b[0m\u001b[91m╸\u001b[0m\u001b[90m━━━━━━━━━━━━━━━━━━━━━━━━━━━\u001b[0m \u001b[32m2.1/6.5 MB\u001b[0m \u001b[31m30.0 MB/s\u001b[0m eta \u001b[36m0:00:01\u001b[0m\r\u001b[2K     \u001b[91m━━━━━━━━━━━━━━━━━━━━━━━━━━━━━━━━━━━━━━━\u001b[0m\u001b[91m╸\u001b[0m \u001b[32m6.5/6.5 MB\u001b[0m \u001b[31m68.5 MB/s\u001b[0m eta \u001b[36m0:00:01\u001b[0m\r\u001b[2K     \u001b[90m━━━━━━━━━━━━━━━━━━━━━━━━━━━━━━━━━━━━━━━━\u001b[0m \u001b[32m6.5/6.5 MB\u001b[0m \u001b[31m49.8 MB/s\u001b[0m eta \u001b[36m0:00:00\u001b[0m\n",
            "\u001b[?25hInstalling collected packages: pyspellchecker\n",
            "Successfully installed pyspellchecker-0.7.3\n"
          ]
        }
      ]
    },
    {
      "cell_type": "code",
      "source": [],
      "metadata": {
        "id": "mDfVCtAQBm1L"
      },
      "execution_count": null,
      "outputs": []
    },
    {
      "cell_type": "markdown",
      "source": [
        "# **Importing Libraries**\n",
        "\n",
        "####Text Processing and Analysis\n",
        "- `TextBlob` and `Word` from `textblob`: Used for natural language processing tasks such as sentiment analysis and lemmatization.\n",
        "\n",
        "####Data Manipulation\n",
        "- `pandas as pd`: A library for handling and analyzing tabular data.\n",
        "\n",
        "####Visualization\n",
        "- `matplotlib.pyplot as plt` and `seaborn as sns`: Libraries for basic and statistical data visualization, respectively.\n",
        "\n",
        "####Machine Learning\n",
        "- `TfidfVectorizer` and `CountVectorizer` from `sklearn.feature_extraction.text`: Tools for converting text data to numerical representations.\n",
        "- `train_test_split` from `sklearn.model_selection`: Function for splitting data into training and testing sets.\n",
        "-`MultinomialNB` in scikit-learn is a classifier based on Bayes' theorem, suitable for discrete data like word counts. It assumes independence between features, making it commonly used in text classification.\n",
        "- `accuracy_score` and `classification_report` from `sklearn.metrics`: Metrics for evaluating classification models.\n",
        "\n",
        "####Advanced Natural Language Processing\n",
        "- `spacy`: An open-source library for advanced natural language processing tasks.\n",
        "\n",
        "####Interactive Widgets\n",
        "- `ipywidgets as widgets`: A library for creating interactive user interfaces.\n",
        "\n",
        "####Display\n",
        "- `display` from `IPython.display`: A function for displaying objects in the IPython environment.\n"
      ],
      "metadata": {
        "id": "Wk9HmCPjsvxI"
      }
    },
    {
      "cell_type": "code",
      "source": [
        "from textblob import TextBlob, Word\n",
        "import pandas as pd\n",
        "import matplotlib.pyplot as plt\n",
        "import seaborn as sns\n",
        "from sklearn.feature_extraction.text import TfidfVectorizer, CountVectorizer\n",
        "from sklearn.naive_bayes import MultinomialNB\n",
        "from sklearn.model_selection import train_test_split\n",
        "from sklearn.metrics import accuracy_score, classification_report\n",
        "import spacy\n",
        "import ipywidgets as widgets\n",
        "import string\n",
        "from IPython.display import display\n",
        "from spellchecker import SpellChecker\n"
      ],
      "metadata": {
        "id": "012-z7YyGs5x"
      },
      "execution_count": null,
      "outputs": []
    },
    {
      "cell_type": "markdown",
      "source": [
        "# **Read Data and Perform Data Cleaning**\n",
        "\n",
        "In this section, we focus on reading the dataset and executing essential data cleaning tasks. A critical aspect of data preprocessing is handling null values to ensure the integrity of our analysis. Let's delve into the process:\n"
      ],
      "metadata": {
        "id": "27sl0oGFtnCI"
      }
    },
    {
      "cell_type": "code",
      "source": [
        "file_path = \"/content/Flipkart.csv\"\n",
        "df= pd.read_csv(file_path, encoding='ISO-8859-1')\n",
        "df"
      ],
      "metadata": {
        "colab": {
          "base_uri": "https://localhost:8080/",
          "height": 580
        },
        "id": "6I_SGuCVGSqG",
        "outputId": "bc6ca6a0-31ac-416f-b5ea-1788f134d9cf"
      },
      "execution_count": null,
      "outputs": [
        {
          "output_type": "execute_result",
          "data": {
            "text/plain": [
              "                                             ProductName         Price Rate  \\\n",
              "0      APPLE 2020 Macbook Air M1 - (8 GB/256 GB SSD/M...  Ã¢ÂÂ¹86,990    5   \n",
              "1      Home Sizzler 153 cm (5.02 ft) Polyester Room D...     Ã¢ÂÂ¹299    5   \n",
              "2      Google Nest Mini (2nd Gen) with Google Assista...     Â??3,499    5   \n",
              "3      LACT ENTERPRISE LACT FOLDABLE 4 BLADE LED LIGH...     Ã¢ÂÂ¹248    4   \n",
              "4      Thomson Kitchen Master Pro+ MX03 750 W Juicer ...     Â??2,709    2   \n",
              "...                                                  ...           ...  ...   \n",
              "49995  CMerchants Multi Organiser BLue-4 Book Shelf M...     Ã¢ÂÂ¹625    5   \n",
              "49996  Eurodomo Hood Indigo PRO HC SC FL BK 60 Auto C...     Â??7,599    4   \n",
              "49997  D-Link DIR-825 AC1200 Wi-Fi Gigabit 1200 Mbps ...     Â??2,499    1   \n",
              "49998                            Bajaj DX 2 L/W Dry Iron       Â??529    5   \n",
              "49999  Men 9325 Latest Collection Stylish Sports Snea...       Â??299    5   \n",
              "\n",
              "                      Review                                          Summary  \n",
              "0                   Terrific                                    Great product  \n",
              "1                     Super!                Amazing product, reasonable price  \n",
              "2                  Must buy!                               It's just awesome.  \n",
              "3                 Delightful                                             Nice  \n",
              "4      Slightly disappointed      nice but during grading vice is very loudly  \n",
              "...                      ...                                              ...  \n",
              "49995              Fabulous!         UpTo the mark that I want...Good product  \n",
              "49996              Very Good                     it's elegent.. user friendly  \n",
              "49997       Terrible product                                         Vary bad  \n",
              "49998              Wonderful                                     Good product  \n",
              "49999                    Nan  Wonderful ????????Nice Shoes ??ÂÃ¸??ÂÃ¸??ÂÃ¸  \n",
              "\n",
              "[50000 rows x 5 columns]"
            ],
            "text/html": [
              "\n",
              "  <div id=\"df-ae58fdae-4c2d-421d-8099-b403901438c8\" class=\"colab-df-container\">\n",
              "    <div>\n",
              "<style scoped>\n",
              "    .dataframe tbody tr th:only-of-type {\n",
              "        vertical-align: middle;\n",
              "    }\n",
              "\n",
              "    .dataframe tbody tr th {\n",
              "        vertical-align: top;\n",
              "    }\n",
              "\n",
              "    .dataframe thead th {\n",
              "        text-align: right;\n",
              "    }\n",
              "</style>\n",
              "<table border=\"1\" class=\"dataframe\">\n",
              "  <thead>\n",
              "    <tr style=\"text-align: right;\">\n",
              "      <th></th>\n",
              "      <th>ProductName</th>\n",
              "      <th>Price</th>\n",
              "      <th>Rate</th>\n",
              "      <th>Review</th>\n",
              "      <th>Summary</th>\n",
              "    </tr>\n",
              "  </thead>\n",
              "  <tbody>\n",
              "    <tr>\n",
              "      <th>0</th>\n",
              "      <td>APPLE 2020 Macbook Air M1 - (8 GB/256 GB SSD/M...</td>\n",
              "      <td>Ã¢ÂÂ¹86,990</td>\n",
              "      <td>5</td>\n",
              "      <td>Terrific</td>\n",
              "      <td>Great product</td>\n",
              "    </tr>\n",
              "    <tr>\n",
              "      <th>1</th>\n",
              "      <td>Home Sizzler 153 cm (5.02 ft) Polyester Room D...</td>\n",
              "      <td>Ã¢ÂÂ¹299</td>\n",
              "      <td>5</td>\n",
              "      <td>Super!</td>\n",
              "      <td>Amazing product, reasonable price</td>\n",
              "    </tr>\n",
              "    <tr>\n",
              "      <th>2</th>\n",
              "      <td>Google Nest Mini (2nd Gen) with Google Assista...</td>\n",
              "      <td>Â??3,499</td>\n",
              "      <td>5</td>\n",
              "      <td>Must buy!</td>\n",
              "      <td>It's just awesome.</td>\n",
              "    </tr>\n",
              "    <tr>\n",
              "      <th>3</th>\n",
              "      <td>LACT ENTERPRISE LACT FOLDABLE 4 BLADE LED LIGH...</td>\n",
              "      <td>Ã¢ÂÂ¹248</td>\n",
              "      <td>4</td>\n",
              "      <td>Delightful</td>\n",
              "      <td>Nice</td>\n",
              "    </tr>\n",
              "    <tr>\n",
              "      <th>4</th>\n",
              "      <td>Thomson Kitchen Master Pro+ MX03 750 W Juicer ...</td>\n",
              "      <td>Â??2,709</td>\n",
              "      <td>2</td>\n",
              "      <td>Slightly disappointed</td>\n",
              "      <td>nice but during grading vice is very loudly</td>\n",
              "    </tr>\n",
              "    <tr>\n",
              "      <th>...</th>\n",
              "      <td>...</td>\n",
              "      <td>...</td>\n",
              "      <td>...</td>\n",
              "      <td>...</td>\n",
              "      <td>...</td>\n",
              "    </tr>\n",
              "    <tr>\n",
              "      <th>49995</th>\n",
              "      <td>CMerchants Multi Organiser BLue-4 Book Shelf M...</td>\n",
              "      <td>Ã¢ÂÂ¹625</td>\n",
              "      <td>5</td>\n",
              "      <td>Fabulous!</td>\n",
              "      <td>UpTo the mark that I want...Good product</td>\n",
              "    </tr>\n",
              "    <tr>\n",
              "      <th>49996</th>\n",
              "      <td>Eurodomo Hood Indigo PRO HC SC FL BK 60 Auto C...</td>\n",
              "      <td>Â??7,599</td>\n",
              "      <td>4</td>\n",
              "      <td>Very Good</td>\n",
              "      <td>it's elegent.. user friendly</td>\n",
              "    </tr>\n",
              "    <tr>\n",
              "      <th>49997</th>\n",
              "      <td>D-Link DIR-825 AC1200 Wi-Fi Gigabit 1200 Mbps ...</td>\n",
              "      <td>Â??2,499</td>\n",
              "      <td>1</td>\n",
              "      <td>Terrible product</td>\n",
              "      <td>Vary bad</td>\n",
              "    </tr>\n",
              "    <tr>\n",
              "      <th>49998</th>\n",
              "      <td>Bajaj DX 2 L/W Dry Iron</td>\n",
              "      <td>Â??529</td>\n",
              "      <td>5</td>\n",
              "      <td>Wonderful</td>\n",
              "      <td>Good product</td>\n",
              "    </tr>\n",
              "    <tr>\n",
              "      <th>49999</th>\n",
              "      <td>Men 9325 Latest Collection Stylish Sports Snea...</td>\n",
              "      <td>Â??299</td>\n",
              "      <td>5</td>\n",
              "      <td>Nan</td>\n",
              "      <td>Wonderful ????????Nice Shoes ??ÂÃ¸??ÂÃ¸??ÂÃ¸</td>\n",
              "    </tr>\n",
              "  </tbody>\n",
              "</table>\n",
              "<p>50000 rows × 5 columns</p>\n",
              "</div>\n",
              "    <div class=\"colab-df-buttons\">\n",
              "\n",
              "  <div class=\"colab-df-container\">\n",
              "    <button class=\"colab-df-convert\" onclick=\"convertToInteractive('df-ae58fdae-4c2d-421d-8099-b403901438c8')\"\n",
              "            title=\"Convert this dataframe to an interactive table.\"\n",
              "            style=\"display:none;\">\n",
              "\n",
              "  <svg xmlns=\"http://www.w3.org/2000/svg\" height=\"24px\" viewBox=\"0 -960 960 960\">\n",
              "    <path d=\"M120-120v-720h720v720H120Zm60-500h600v-160H180v160Zm220 220h160v-160H400v160Zm0 220h160v-160H400v160ZM180-400h160v-160H180v160Zm440 0h160v-160H620v160ZM180-180h160v-160H180v160Zm440 0h160v-160H620v160Z\"/>\n",
              "  </svg>\n",
              "    </button>\n",
              "\n",
              "  <style>\n",
              "    .colab-df-container {\n",
              "      display:flex;\n",
              "      gap: 12px;\n",
              "    }\n",
              "\n",
              "    .colab-df-convert {\n",
              "      background-color: #E8F0FE;\n",
              "      border: none;\n",
              "      border-radius: 50%;\n",
              "      cursor: pointer;\n",
              "      display: none;\n",
              "      fill: #1967D2;\n",
              "      height: 32px;\n",
              "      padding: 0 0 0 0;\n",
              "      width: 32px;\n",
              "    }\n",
              "\n",
              "    .colab-df-convert:hover {\n",
              "      background-color: #E2EBFA;\n",
              "      box-shadow: 0px 1px 2px rgba(60, 64, 67, 0.3), 0px 1px 3px 1px rgba(60, 64, 67, 0.15);\n",
              "      fill: #174EA6;\n",
              "    }\n",
              "\n",
              "    .colab-df-buttons div {\n",
              "      margin-bottom: 4px;\n",
              "    }\n",
              "\n",
              "    [theme=dark] .colab-df-convert {\n",
              "      background-color: #3B4455;\n",
              "      fill: #D2E3FC;\n",
              "    }\n",
              "\n",
              "    [theme=dark] .colab-df-convert:hover {\n",
              "      background-color: #434B5C;\n",
              "      box-shadow: 0px 1px 3px 1px rgba(0, 0, 0, 0.15);\n",
              "      filter: drop-shadow(0px 1px 2px rgba(0, 0, 0, 0.3));\n",
              "      fill: #FFFFFF;\n",
              "    }\n",
              "  </style>\n",
              "\n",
              "    <script>\n",
              "      const buttonEl =\n",
              "        document.querySelector('#df-ae58fdae-4c2d-421d-8099-b403901438c8 button.colab-df-convert');\n",
              "      buttonEl.style.display =\n",
              "        google.colab.kernel.accessAllowed ? 'block' : 'none';\n",
              "\n",
              "      async function convertToInteractive(key) {\n",
              "        const element = document.querySelector('#df-ae58fdae-4c2d-421d-8099-b403901438c8');\n",
              "        const dataTable =\n",
              "          await google.colab.kernel.invokeFunction('convertToInteractive',\n",
              "                                                    [key], {});\n",
              "        if (!dataTable) return;\n",
              "\n",
              "        const docLinkHtml = 'Like what you see? Visit the ' +\n",
              "          '<a target=\"_blank\" href=https://colab.research.google.com/notebooks/data_table.ipynb>data table notebook</a>'\n",
              "          + ' to learn more about interactive tables.';\n",
              "        element.innerHTML = '';\n",
              "        dataTable['output_type'] = 'display_data';\n",
              "        await google.colab.output.renderOutput(dataTable, element);\n",
              "        const docLink = document.createElement('div');\n",
              "        docLink.innerHTML = docLinkHtml;\n",
              "        element.appendChild(docLink);\n",
              "      }\n",
              "    </script>\n",
              "  </div>\n",
              "\n",
              "\n",
              "<div id=\"df-6fcd5ad5-3666-4757-a0a5-4dee0fed113d\">\n",
              "  <button class=\"colab-df-quickchart\" onclick=\"quickchart('df-6fcd5ad5-3666-4757-a0a5-4dee0fed113d')\"\n",
              "            title=\"Suggest charts\"\n",
              "            style=\"display:none;\">\n",
              "\n",
              "<svg xmlns=\"http://www.w3.org/2000/svg\" height=\"24px\"viewBox=\"0 0 24 24\"\n",
              "     width=\"24px\">\n",
              "    <g>\n",
              "        <path d=\"M19 3H5c-1.1 0-2 .9-2 2v14c0 1.1.9 2 2 2h14c1.1 0 2-.9 2-2V5c0-1.1-.9-2-2-2zM9 17H7v-7h2v7zm4 0h-2V7h2v10zm4 0h-2v-4h2v4z\"/>\n",
              "    </g>\n",
              "</svg>\n",
              "  </button>\n",
              "\n",
              "<style>\n",
              "  .colab-df-quickchart {\n",
              "      --bg-color: #E8F0FE;\n",
              "      --fill-color: #1967D2;\n",
              "      --hover-bg-color: #E2EBFA;\n",
              "      --hover-fill-color: #174EA6;\n",
              "      --disabled-fill-color: #AAA;\n",
              "      --disabled-bg-color: #DDD;\n",
              "  }\n",
              "\n",
              "  [theme=dark] .colab-df-quickchart {\n",
              "      --bg-color: #3B4455;\n",
              "      --fill-color: #D2E3FC;\n",
              "      --hover-bg-color: #434B5C;\n",
              "      --hover-fill-color: #FFFFFF;\n",
              "      --disabled-bg-color: #3B4455;\n",
              "      --disabled-fill-color: #666;\n",
              "  }\n",
              "\n",
              "  .colab-df-quickchart {\n",
              "    background-color: var(--bg-color);\n",
              "    border: none;\n",
              "    border-radius: 50%;\n",
              "    cursor: pointer;\n",
              "    display: none;\n",
              "    fill: var(--fill-color);\n",
              "    height: 32px;\n",
              "    padding: 0;\n",
              "    width: 32px;\n",
              "  }\n",
              "\n",
              "  .colab-df-quickchart:hover {\n",
              "    background-color: var(--hover-bg-color);\n",
              "    box-shadow: 0 1px 2px rgba(60, 64, 67, 0.3), 0 1px 3px 1px rgba(60, 64, 67, 0.15);\n",
              "    fill: var(--button-hover-fill-color);\n",
              "  }\n",
              "\n",
              "  .colab-df-quickchart-complete:disabled,\n",
              "  .colab-df-quickchart-complete:disabled:hover {\n",
              "    background-color: var(--disabled-bg-color);\n",
              "    fill: var(--disabled-fill-color);\n",
              "    box-shadow: none;\n",
              "  }\n",
              "\n",
              "  .colab-df-spinner {\n",
              "    border: 2px solid var(--fill-color);\n",
              "    border-color: transparent;\n",
              "    border-bottom-color: var(--fill-color);\n",
              "    animation:\n",
              "      spin 1s steps(1) infinite;\n",
              "  }\n",
              "\n",
              "  @keyframes spin {\n",
              "    0% {\n",
              "      border-color: transparent;\n",
              "      border-bottom-color: var(--fill-color);\n",
              "      border-left-color: var(--fill-color);\n",
              "    }\n",
              "    20% {\n",
              "      border-color: transparent;\n",
              "      border-left-color: var(--fill-color);\n",
              "      border-top-color: var(--fill-color);\n",
              "    }\n",
              "    30% {\n",
              "      border-color: transparent;\n",
              "      border-left-color: var(--fill-color);\n",
              "      border-top-color: var(--fill-color);\n",
              "      border-right-color: var(--fill-color);\n",
              "    }\n",
              "    40% {\n",
              "      border-color: transparent;\n",
              "      border-right-color: var(--fill-color);\n",
              "      border-top-color: var(--fill-color);\n",
              "    }\n",
              "    60% {\n",
              "      border-color: transparent;\n",
              "      border-right-color: var(--fill-color);\n",
              "    }\n",
              "    80% {\n",
              "      border-color: transparent;\n",
              "      border-right-color: var(--fill-color);\n",
              "      border-bottom-color: var(--fill-color);\n",
              "    }\n",
              "    90% {\n",
              "      border-color: transparent;\n",
              "      border-bottom-color: var(--fill-color);\n",
              "    }\n",
              "  }\n",
              "</style>\n",
              "\n",
              "  <script>\n",
              "    async function quickchart(key) {\n",
              "      const quickchartButtonEl =\n",
              "        document.querySelector('#' + key + ' button');\n",
              "      quickchartButtonEl.disabled = true;  // To prevent multiple clicks.\n",
              "      quickchartButtonEl.classList.add('colab-df-spinner');\n",
              "      try {\n",
              "        const charts = await google.colab.kernel.invokeFunction(\n",
              "            'suggestCharts', [key], {});\n",
              "      } catch (error) {\n",
              "        console.error('Error during call to suggestCharts:', error);\n",
              "      }\n",
              "      quickchartButtonEl.classList.remove('colab-df-spinner');\n",
              "      quickchartButtonEl.classList.add('colab-df-quickchart-complete');\n",
              "    }\n",
              "    (() => {\n",
              "      let quickchartButtonEl =\n",
              "        document.querySelector('#df-6fcd5ad5-3666-4757-a0a5-4dee0fed113d button');\n",
              "      quickchartButtonEl.style.display =\n",
              "        google.colab.kernel.accessAllowed ? 'block' : 'none';\n",
              "    })();\n",
              "  </script>\n",
              "</div>\n",
              "\n",
              "  <div id=\"id_392b1cbf-a758-4159-a55e-bc370642ff64\">\n",
              "    <style>\n",
              "      .colab-df-generate {\n",
              "        background-color: #E8F0FE;\n",
              "        border: none;\n",
              "        border-radius: 50%;\n",
              "        cursor: pointer;\n",
              "        display: none;\n",
              "        fill: #1967D2;\n",
              "        height: 32px;\n",
              "        padding: 0 0 0 0;\n",
              "        width: 32px;\n",
              "      }\n",
              "\n",
              "      .colab-df-generate:hover {\n",
              "        background-color: #E2EBFA;\n",
              "        box-shadow: 0px 1px 2px rgba(60, 64, 67, 0.3), 0px 1px 3px 1px rgba(60, 64, 67, 0.15);\n",
              "        fill: #174EA6;\n",
              "      }\n",
              "\n",
              "      [theme=dark] .colab-df-generate {\n",
              "        background-color: #3B4455;\n",
              "        fill: #D2E3FC;\n",
              "      }\n",
              "\n",
              "      [theme=dark] .colab-df-generate:hover {\n",
              "        background-color: #434B5C;\n",
              "        box-shadow: 0px 1px 3px 1px rgba(0, 0, 0, 0.15);\n",
              "        filter: drop-shadow(0px 1px 2px rgba(0, 0, 0, 0.3));\n",
              "        fill: #FFFFFF;\n",
              "      }\n",
              "    </style>\n",
              "    <button class=\"colab-df-generate\" onclick=\"generateWithVariable('df')\"\n",
              "            title=\"Generate code using this dataframe.\"\n",
              "            style=\"display:none;\">\n",
              "\n",
              "  <svg xmlns=\"http://www.w3.org/2000/svg\" height=\"24px\"viewBox=\"0 0 24 24\"\n",
              "       width=\"24px\">\n",
              "    <path d=\"M7,19H8.4L18.45,9,17,7.55,7,17.6ZM5,21V16.75L18.45,3.32a2,2,0,0,1,2.83,0l1.4,1.43a1.91,1.91,0,0,1,.58,1.4,1.91,1.91,0,0,1-.58,1.4L9.25,21ZM18.45,9,17,7.55Zm-12,3A5.31,5.31,0,0,0,4.9,8.1,5.31,5.31,0,0,0,1,6.5,5.31,5.31,0,0,0,4.9,4.9,5.31,5.31,0,0,0,6.5,1,5.31,5.31,0,0,0,8.1,4.9,5.31,5.31,0,0,0,12,6.5,5.46,5.46,0,0,0,6.5,12Z\"/>\n",
              "  </svg>\n",
              "    </button>\n",
              "    <script>\n",
              "      (() => {\n",
              "      const buttonEl =\n",
              "        document.querySelector('#id_392b1cbf-a758-4159-a55e-bc370642ff64 button.colab-df-generate');\n",
              "      buttonEl.style.display =\n",
              "        google.colab.kernel.accessAllowed ? 'block' : 'none';\n",
              "\n",
              "      buttonEl.onclick = () => {\n",
              "        google.colab.notebook.generateWithVariable('df');\n",
              "      }\n",
              "      })();\n",
              "    </script>\n",
              "  </div>\n",
              "\n",
              "    </div>\n",
              "  </div>\n"
            ]
          },
          "metadata": {},
          "execution_count": 4
        }
      ]
    },
    {
      "cell_type": "code",
      "source": [
        "df.info()"
      ],
      "metadata": {
        "colab": {
          "base_uri": "https://localhost:8080/"
        },
        "id": "ThOk9O9WFehU",
        "outputId": "caaefde6-8535-4ba2-8aff-785ffbe99089"
      },
      "execution_count": null,
      "outputs": [
        {
          "output_type": "stream",
          "name": "stdout",
          "text": [
            "<class 'pandas.core.frame.DataFrame'>\n",
            "RangeIndex: 50000 entries, 0 to 49999\n",
            "Data columns (total 5 columns):\n",
            " #   Column       Non-Null Count  Dtype \n",
            "---  ------       --------------  ----- \n",
            " 0   ProductName  50000 non-null  object\n",
            " 1   Price        49999 non-null  object\n",
            " 2   Rate         49999 non-null  object\n",
            " 3   Review       49999 non-null  object\n",
            " 4   Summary      49995 non-null  object\n",
            "dtypes: object(5)\n",
            "memory usage: 1.9+ MB\n"
          ]
        }
      ]
    },
    {
      "cell_type": "code",
      "source": [
        "df.isnull().sum()"
      ],
      "metadata": {
        "colab": {
          "base_uri": "https://localhost:8080/"
        },
        "id": "m75t3OhtG2BI",
        "outputId": "8047026a-6235-4062-d0f3-5bfd2b76bd57"
      },
      "execution_count": null,
      "outputs": [
        {
          "output_type": "execute_result",
          "data": {
            "text/plain": [
              "ProductName    0\n",
              "Price          1\n",
              "Rate           1\n",
              "Review         1\n",
              "Summary        5\n",
              "dtype: int64"
            ]
          },
          "metadata": {},
          "execution_count": 6
        }
      ]
    },
    {
      "cell_type": "code",
      "source": [
        "df.dropna(inplace=True)"
      ],
      "metadata": {
        "id": "xAeNHAmDG8k1"
      },
      "execution_count": null,
      "outputs": []
    },
    {
      "cell_type": "code",
      "source": [
        "df.isnull().sum()"
      ],
      "metadata": {
        "colab": {
          "base_uri": "https://localhost:8080/"
        },
        "id": "f9tjqTjHHAn3",
        "outputId": "4a7d5a3e-cca4-40cf-c18b-b20fb80402ce"
      },
      "execution_count": null,
      "outputs": [
        {
          "output_type": "execute_result",
          "data": {
            "text/plain": [
              "ProductName    0\n",
              "Price          0\n",
              "Rate           0\n",
              "Review         0\n",
              "Summary        0\n",
              "dtype: int64"
            ]
          },
          "metadata": {},
          "execution_count": 8
        }
      ]
    },
    {
      "cell_type": "markdown",
      "source": [
        "# **Preprocessing Step**\n",
        "Introduction to Preprocessing:\n",
        "The preprocessing step is a fundamental stage in sentiment analysis, as it involves cleaning and transforming the raw text data to make it suitable for analysis. Here are some key preprocessing steps in sentiment analysis.\n",
        "\n",
        "**Loading SpaCy Model:**\n",
        "\n",
        "Loads the English language spaCy model for natural language processing.\n",
        "\n",
        "**Defining Stop Words:**\n",
        "\n",
        "Creates a set of stop words including common English words and additional negation-related terms.\n",
        "\n",
        "**Text Cleaning Function:**\n",
        "\n",
        "A function that performs several text cleaning operations on a DataFrame column.\n",
        "\n",
        "**Column Type Conversion:**\n",
        "\n",
        "Converts the data type of the specified DataFrame column to string.\n",
        "\n",
        "**Lowercasing Text:**\n",
        "\n",
        "Converts all text in the DataFrame column to lowercase.\n",
        "\n",
        "**Removing Punctuation:**\n",
        "\n",
        "Removes punctuation from the text in the DataFrame column.\n",
        "\n",
        "**Stripping Whitespace:**\n",
        "\n",
        "Removes leading and trailing whitespaces from the text in the DataFrame column.\n",
        "\n",
        "**Removing Stop Words:**\n",
        "\n",
        "Removes common stop words from the text in the DataFrame column.\n",
        "\n",
        "**Lemmatization:**\n",
        "\n",
        "Performs lemmatization on the text in the DataFrame column, reducing words to their base form.\n",
        "\n",
        "\n",
        "\n"
      ],
      "metadata": {
        "id": "RxLqLjqbxJL0"
      }
    },
    {
      "cell_type": "code",
      "source": [
        "nlp = spacy.load(\"en_core_web_sm\")\n",
        "stop_words = spacy.lang.en.stop_words.STOP_WORDS | {'not', 'no', 'never', 'none', 'nothing', 'nowhere', 'nor', 'neither', 'cannot'}\n",
        "spell = SpellChecker()\n",
        "\n",
        "def clean_column(df, column):\n",
        "    df[column] = df[column].astype(str)\n",
        "    df[column] = df[column].str.lower()\n",
        "    df[column] = df[column].str.translate(str.maketrans('', '', string.punctuation))\n",
        "    df[column] = df[column].str.strip()\n",
        "    df[column] = df[column].apply(lambda x: ' '.join([word for word in x.split() if word not in stop_words]))\n",
        "    df[column] = df[column].apply(lambda sentence: ' '.join(spell.correction(word) if spell.correction(word) is not None else word for word in sentence.split()))\n",
        "    df[column] = df[column].apply(lambda sentence: ' '.join([token.lemma_ for token in nlp(sentence)]))\n",
        "\n",
        "    return df[column]\n"
      ],
      "metadata": {
        "id": "RQIido53F-Uz"
      },
      "execution_count": null,
      "outputs": []
    },
    {
      "cell_type": "code",
      "source": [
        "df['CleanSummary'] = clean_column(df, 'Summary')"
      ],
      "metadata": {
        "id": "W8_kSOkrGN8T"
      },
      "execution_count": null,
      "outputs": []
    },
    {
      "cell_type": "markdown",
      "source": [
        "# **Create Textblob**\n",
        "TextBlob is a Python library that simplifies natural language processing tasks, and here it evaluates the sentiment of cleaned textual summaries. The resulting sentiment scores offer insights into the overall emotional tone, distinguishing between positive, negative, or neutral sentiments within the provided text data.\n"
      ],
      "metadata": {
        "id": "0i8ZyI6sHH2c"
      }
    },
    {
      "cell_type": "code",
      "source": [
        "df['TextBlob'] = df['CleanSummary'].apply(lambda summary: TextBlob(summary).sentiment)"
      ],
      "metadata": {
        "id": "Qy2dqlOnHHKr"
      },
      "execution_count": null,
      "outputs": []
    },
    {
      "cell_type": "markdown",
      "source": [
        "# **Sentiment analysis**\n",
        "<img src=\"https://github.com/yaznhijazii/FlipkartNLP/blob/main/Social-Media-Sentiment-Analysis.jpg?raw=true\" alt=\"Alt Text\" width=\"300\"/>\n",
        "\n",
        "Determine the sentiment (positive, negative, neutral) expressed in a piece of text using TextBlob's sentiment analysis capabilities."
      ],
      "metadata": {
        "id": "kjy4PQjGG8qf"
      }
    },
    {
      "cell_type": "code",
      "source": [
        "df['Sentiment'] = df['TextBlob'].apply(lambda textblob: 'Positive' if textblob.polarity > 0 else ('Neutral' if textblob.polarity == 0 else 'Negative'))\n",
        "sentiment_distribution = df['Sentiment'].value_counts()\n",
        "print(\"Sentiment Distribution:\")\n",
        "print(sentiment_distribution)\n",
        "\n",
        "plt.figure(figsize=(8, 6))\n",
        "sns.countplot(x='Sentiment', data=df)\n",
        "plt.title(\"Sentiment Distribution\")\n",
        "plt.xlabel(\"Sentiment\")\n",
        "plt.ylabel(\"Count\")\n",
        "plt.show()\n"
      ],
      "metadata": {
        "colab": {
          "base_uri": "https://localhost:8080/",
          "height": 651
        },
        "id": "z3n_t0wWGRtx",
        "outputId": "c54e30c2-aa77-468c-8957-d7cfbe6b1d5e"
      },
      "execution_count": null,
      "outputs": [
        {
          "output_type": "stream",
          "name": "stdout",
          "text": [
            "Sentiment Distribution:\n",
            "Positive    40860\n",
            "Neutral      4698\n",
            "Negative     4437\n",
            "Name: Sentiment, dtype: int64\n"
          ]
        },
        {
          "output_type": "display_data",
          "data": {
            "text/plain": [
              "<Figure size 800x600 with 1 Axes>"
            ],
            "image/png": "[encoded data removed]"
          },
          "metadata": {}
        }
      ]
    },
    {
      "cell_type": "markdown",
      "source": [
        "# **N-Gram**\n",
        "N-grams are contiguous sequences of n items (words in the context of NLP). TextBlob facilitates the extraction of N-grams, helping to capture patterns and relationships in the text.\n"
      ],
      "metadata": {
        "id": "0eiq3zkjH1lc"
      }
    },
    {
      "cell_type": "code",
      "source": [
        "X_train, X_test, y_train, y_test = train_test_split(df['CleanSummary'], df['Sentiment'], test_size=0.2, random_state=42)"
      ],
      "metadata": {
        "id": "bD8OGqpUIXBA"
      },
      "execution_count": null,
      "outputs": []
    },
    {
      "cell_type": "code",
      "source": [
        "class_labels = {'Negative': 0, 'Neutral': 1, 'Positive': 2}\n",
        "y_train_numeric = y_train.map(class_labels)"
      ],
      "metadata": {
        "id": "8DBaP-c9BCED"
      },
      "execution_count": null,
      "outputs": []
    },
    {
      "cell_type": "code",
      "source": [
        "from sklearn.utils.class_weight import compute_sample_weight\n",
        "class_weights = {0: 1, 1: 5, 2: 1}\n",
        "sample_weights_train = compute_sample_weight(class_weights, y_train_numeric)"
      ],
      "metadata": {
        "id": "R_TgX1YKBCSR"
      },
      "execution_count": null,
      "outputs": []
    },
    {
      "cell_type": "code",
      "source": [
        "vectorizer = TfidfVectorizer(max_features=5000, ngram_range=(1, 2))\n",
        "X_train_vectorized = vectorizer.fit_transform(X_train)\n",
        "X_test_vectorized = vectorizer.transform(X_test)\n"
      ],
      "metadata": {
        "id": "qERR8WKqAhHb"
      },
      "execution_count": null,
      "outputs": []
    },
    {
      "cell_type": "markdown",
      "source": [
        "# **Model Building**\n",
        "a Multinomial Naive Bayes model is trained using X_train_vectorized and y_train, representing the vectorized training data and corresponding labels."
      ],
      "metadata": {
        "id": "Yf6qubdt-MS3"
      }
    },
    {
      "cell_type": "code",
      "source": [
        "model = MultinomialNB()\n",
        "model.fit(X_train_vectorized, y_train_numeric, sample_weight=sample_weights_train)\n",
        "y_pred_numeric = model.predict(X_test_vectorized)\n",
        "y_test_numeric = y_test.map(class_labels)\n",
        "accuracy = accuracy_score(y_test_numeric, y_pred_numeric)\n",
        "print(f\"Accuracy: {accuracy:.2%}\")\n",
        "print(\"Classification Report with Class Weights:\")\n",
        "print(classification_report(y_test_numeric, y_pred_numeric, target_names=class_labels.keys()))\n"
      ],
      "metadata": {
        "colab": {
          "base_uri": "https://localhost:8080/"
        },
        "id": "SV_awPSbGbcl",
        "outputId": "1e455cb3-0ca9-4dbe-8198-b7d6698c9de2"
      },
      "execution_count": null,
      "outputs": [
        {
          "output_type": "stream",
          "name": "stdout",
          "text": [
            "Accuracy: 93.31%\n",
            "Classification Report with Class Weights:\n",
            "              precision    recall  f1-score   support\n",
            "\n",
            "    Negative       0.94      0.72      0.81       888\n",
            "     Neutral       0.72      0.79      0.76       947\n",
            "    Positive       0.96      0.97      0.97      8164\n",
            "\n",
            "    accuracy                           0.93      9999\n",
            "   macro avg       0.87      0.83      0.85      9999\n",
            "weighted avg       0.93      0.93      0.93      9999\n",
            "\n"
          ]
        }
      ]
    },
    {
      "cell_type": "markdown",
      "source": [
        "# My GitHub Project\n",
        "\n",
        "Check out my project on GitHub: [My Repository](https://github.com/yaznhijazii/FlipkartNLP/tree/main)\n"
      ],
      "metadata": {
        "id": "A030MpkmPBN8"
      }
    }
  ]
}